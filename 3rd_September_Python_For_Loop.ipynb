{
 "cells": [
  {
   "cell_type": "code",
   "execution_count": 1,
   "id": "4677aac6-13de-41d9-8aa5-37b96a8b813f",
   "metadata": {},
   "outputs": [],
   "source": [
    "# for loop assignment questions"
   ]
  },
  {
   "cell_type": "code",
   "execution_count": 2,
   "id": "0624e588-035f-4c32-9857-2b41d06abe1e",
   "metadata": {},
   "outputs": [],
   "source": [
    "# Basic level"
   ]
  },
  {
   "cell_type": "code",
   "execution_count": null,
   "id": "e5f4a7af-4c60-4615-a437-ce521fa6026a",
   "metadata": {},
   "outputs": [],
   "source": [
    "# 1. Write a Python program to print the numbers from 1 to 10 using a `for` loop."
   ]
  },
  {
   "cell_type": "code",
   "execution_count": 4,
   "id": "f84b4ece-b1ea-4ea8-bb14-9d0313818712",
   "metadata": {},
   "outputs": [
    {
     "name": "stdout",
     "output_type": "stream",
     "text": [
      "1 2 3 4 5 6 7 8 9 10 "
     ]
    }
   ],
   "source": [
    "for i in range(1, 11):\n",
    "    print(i, end=' ')"
   ]
  },
  {
   "cell_type": "code",
   "execution_count": null,
   "id": "97679793-73e7-49a4-b62e-8a698bc89f61",
   "metadata": {},
   "outputs": [],
   "source": [
    "# 2. Create a program that calculates the sum of all numbers in a list using a `for` loop."
   ]
  },
  {
   "cell_type": "code",
   "execution_count": 5,
   "id": "cf438cb0-d770-407f-8860-2e14380c31a9",
   "metadata": {},
   "outputs": [
    {
     "name": "stdout",
     "output_type": "stream",
     "text": [
      "Sum is 50\n"
     ]
    }
   ],
   "source": [
    "lst1 = [2, 3, 4, 6, 7, 8, 20]\n",
    "\n",
    "sum1 = 0\n",
    "for ele in lst1:\n",
    "    sum1 = sum1 + ele\n",
    "print(f\"Sum is {sum1}\")"
   ]
  },
  {
   "cell_type": "code",
   "execution_count": 48,
   "id": "ea15e35b-cc07-4832-b3ee-ee25bd8c9e69",
   "metadata": {},
   "outputs": [],
   "source": [
    "# 3. Write a program to print the characters of a string in reverse order using a `for` loop."
   ]
  },
  {
   "cell_type": "code",
   "execution_count": 9,
   "id": "dc0fdb0c-6a4e-4192-8eb6-2ffc7a5229bc",
   "metadata": {},
   "outputs": [
    {
     "name": "stdout",
     "output_type": "stream",
     "text": [
      "s l l i k s w p "
     ]
    }
   ],
   "source": [
    "str1 = 'pwskills'\n",
    "\n",
    "for i in range(len(str1)-1,-1,-1):\n",
    "    print(str1[i], end=' ')"
   ]
  },
  {
   "cell_type": "code",
   "execution_count": 47,
   "id": "f67ec2d9-403d-406c-a212-79fd36c484cf",
   "metadata": {},
   "outputs": [],
   "source": [
    "# 4. Develop a program that finds the factorial of a given number using a `for` loop."
   ]
  },
  {
   "cell_type": "code",
   "execution_count": 16,
   "id": "20e4c470-9094-4c0e-826a-99f75988bdb4",
   "metadata": {},
   "outputs": [
    {
     "name": "stdout",
     "output_type": "stream",
     "text": [
      "3628800\n"
     ]
    }
   ],
   "source": [
    "num_for_fact = 10\n",
    "\n",
    "base = 1\n",
    "for i in range(num_for_fact,0,-1):\n",
    "    number = i * base\n",
    "    base = number\n",
    "print(number)   "
   ]
  },
  {
   "cell_type": "code",
   "execution_count": 49,
   "id": "f5062fb8-6cc1-4b16-8070-8a6c2334dbe3",
   "metadata": {},
   "outputs": [],
   "source": [
    "# 5. Create a program to print the multiplication table of a given number using a `for` loop.\n"
   ]
  },
  {
   "cell_type": "code",
   "execution_count": 21,
   "id": "9bb585c5-4cc3-48d9-8bcb-1dc8d92fa434",
   "metadata": {},
   "outputs": [
    {
     "name": "stdin",
     "output_type": "stream",
     "text": [
      "Enter required table number 5\n"
     ]
    },
    {
     "name": "stdout",
     "output_type": "stream",
     "text": [
      "5 * 1 = 5\n",
      "5 * 2 = 10\n",
      "5 * 3 = 15\n",
      "5 * 4 = 20\n",
      "5 * 5 = 25\n",
      "5 * 6 = 30\n",
      "5 * 7 = 35\n",
      "5 * 8 = 40\n",
      "5 * 9 = 45\n",
      "5 * 10 = 50\n"
     ]
    }
   ],
   "source": [
    "table_no = int(input(\"Enter required table number\"))\n",
    "\n",
    "for i in range(1, 11):\n",
    "    print(f\"{table_no} * {i} = {table_no*i}\")"
   ]
  },
  {
   "cell_type": "code",
   "execution_count": 50,
   "id": "d6f91ece-a61a-40e2-8712-3f7e757273ad",
   "metadata": {},
   "outputs": [],
   "source": [
    "#6. Write a program that counts the number of even and odd numbers in a list using a `for` loop."
   ]
  },
  {
   "cell_type": "code",
   "execution_count": 22,
   "id": "0dad6ac3-1d39-49bc-a43a-345a6aec46ed",
   "metadata": {},
   "outputs": [
    {
     "name": "stdout",
     "output_type": "stream",
     "text": [
      "Count of even number is 6\n",
      "Count of odd number is 6\n"
     ]
    }
   ],
   "source": [
    "lst2 = [1, 2, 3, 4, 5, 6, 7, 8, 9, 10, 11, 12]\n",
    "count_even = 0\n",
    "count_odd = 0\n",
    "\n",
    "for element in lst2:\n",
    "    if element % 2 == 0:\n",
    "        count_even = count_even + 1\n",
    "    else:\n",
    "        count_odd = count_odd + 1\n",
    "\n",
    "print(f\"Count of even number is {count_even}\")\n",
    "print(f\"Count of odd number is {count_odd}\")"
   ]
  },
  {
   "cell_type": "code",
   "execution_count": 51,
   "id": "287999c0-0b59-4a0e-a20d-41ac51c033f1",
   "metadata": {},
   "outputs": [],
   "source": [
    "#7. Develop a program that prints the squares of numbers from 1 to 5 using a `for` loop."
   ]
  },
  {
   "cell_type": "code",
   "execution_count": 26,
   "id": "834cdc8a-358d-4dcc-b1ca-376d1e43146c",
   "metadata": {},
   "outputs": [
    {
     "name": "stdout",
     "output_type": "stream",
     "text": [
      "square of 1 = 1\n",
      "square of 2 = 4\n",
      "square of 3 = 9\n",
      "square of 4 = 16\n",
      "square of 5 = 25\n"
     ]
    }
   ],
   "source": [
    "for i in range(1,6):\n",
    "    print(f\"square of {i} = {i**2}\")"
   ]
  },
  {
   "cell_type": "code",
   "execution_count": 52,
   "id": "73e8c245-7d1a-4b67-851f-06778c507665",
   "metadata": {},
   "outputs": [],
   "source": [
    "#8. Create a program to find the length of a string without using the `len()` function."
   ]
  },
  {
   "cell_type": "code",
   "execution_count": 28,
   "id": "7ef52168-d6ee-4cc6-93ab-0d7531afd5cc",
   "metadata": {},
   "outputs": [
    {
     "name": "stdout",
     "output_type": "stream",
     "text": [
      "Length of string is 12\n"
     ]
    }
   ],
   "source": [
    "str2 = 'pwskillscode'\n",
    "count = 0\n",
    "for char in str2:\n",
    "    count = count + 1 \n",
    "print(f\"Length of string is {count}\")"
   ]
  },
  {
   "cell_type": "code",
   "execution_count": 53,
   "id": "379b0f5d-599f-4a93-9542-9fec93dd01fa",
   "metadata": {},
   "outputs": [],
   "source": [
    "#9. Write a program that calculates the average of a list of numbers using a `for` loop."
   ]
  },
  {
   "cell_type": "code",
   "execution_count": 30,
   "id": "4f6c2836-bafc-44c7-9865-6b7f3cbae63e",
   "metadata": {},
   "outputs": [
    {
     "name": "stdout",
     "output_type": "stream",
     "text": [
      "Average is 26.88888888888889\n"
     ]
    }
   ],
   "source": [
    "lst3 = [2, 12, 2, 5, 10, 12, 45, 65, 89]\n",
    "N = len(lst3)\n",
    "sum1 = 0\n",
    "for element in lst3:\n",
    "    sum1 = sum1 + element\n",
    "average = sum1/N\n",
    "print(f\"Average is {average}\")"
   ]
  },
  {
   "cell_type": "code",
   "execution_count": 54,
   "id": "44a2d928-2f7f-415b-af32-9bc0cf61911e",
   "metadata": {},
   "outputs": [],
   "source": [
    "#10. Develop a program that prints the first `n` Fibonacci numbers using a `for` loop."
   ]
  },
  {
   "cell_type": "code",
   "execution_count": 33,
   "id": "0ef0e300-b7a0-4eec-b91a-850f379fd500",
   "metadata": {},
   "outputs": [
    {
     "name": "stdin",
     "output_type": "stream",
     "text": [
      "How long fibonaci numbers ? 10\n"
     ]
    },
    {
     "name": "stdout",
     "output_type": "stream",
     "text": [
      "[0, 1, 1, 2, 3, 5, 8, 13, 21, 34]\n"
     ]
    }
   ],
   "source": [
    "n = int(input(\"How long fibonaci numbers ?\"))\n",
    "fibo_lst = [0, 1]\n",
    "\n",
    "for i in range(n):\n",
    "    if  i > 1:\n",
    "        next_element = fibo_lst[i-2] + fibo_lst[i-1]\n",
    "        fibo_lst.append(next_element)\n",
    "    else:\n",
    "        continue\n",
    "print(fibo_lst)    "
   ]
  },
  {
   "cell_type": "code",
   "execution_count": null,
   "id": "657e33c1-2e8b-406f-9f49-8aabb8b7b84b",
   "metadata": {},
   "outputs": [],
   "source": [
    "# intermediate level"
   ]
  },
  {
   "cell_type": "code",
   "execution_count": 1,
   "id": "e0c25c12-8011-477f-a733-6912209ff2e6",
   "metadata": {},
   "outputs": [],
   "source": [
    "#11. Write a program to check if a given list contains any duplicates using a `for` loop."
   ]
  },
  {
   "cell_type": "code",
   "execution_count": 41,
   "id": "4d9452e2-f295-4633-aea5-8f2d4e3cd173",
   "metadata": {},
   "outputs": [
    {
     "name": "stdout",
     "output_type": "stream",
     "text": [
      "List of duplicates in given list = [3, 6, 4, 8]\n"
     ]
    }
   ],
   "source": [
    "lst4 = [2, 3, 3, 4, 5, 6, 7, 8, 6, 9, 4, 8]\n",
    "non_dup_lst4 = []\n",
    "dup_lst4 = []\n",
    "\n",
    "for i in range(len(lst4)):\n",
    "    if lst4[i] not in non_dup_lst4:\n",
    "        non_dup_lst4.append(lst4[i])\n",
    "    else:\n",
    "        dup_lst4.append(lst4[i])\n",
    "if len(dup_lst4) == 0:\n",
    "    print(\"No duplicates in given list\")\n",
    "        \n",
    "print(f\"List of duplicates in given list = {dup_lst4}\")"
   ]
  },
  {
   "cell_type": "code",
   "execution_count": 2,
   "id": "3498e2b7-185f-40bd-ae6d-505086f1a6b5",
   "metadata": {},
   "outputs": [],
   "source": [
    "#12. Create a program that prints the prime numbers in a given range using a `for` loop."
   ]
  },
  {
   "cell_type": "code",
   "execution_count": 44,
   "id": "8561c965-cc2f-4f08-b39d-c04d058f13b4",
   "metadata": {},
   "outputs": [
    {
     "name": "stdin",
     "output_type": "stream",
     "text": [
      "Enter a range within which prime numbers are required:  100\n"
     ]
    },
    {
     "name": "stdout",
     "output_type": "stream",
     "text": [
      "2 3 5 7 11 13 17 19 23 29 31 37 41 43 47 53 59 61 67 71 73 79 83 89 97 "
     ]
    }
   ],
   "source": [
    "n = int(input(\"Enter a range within which prime numbers are required: \"))\n",
    "\n",
    "for num in range(n+1):\n",
    "    if num > 1:\n",
    "        is_prime = True\n",
    "        for i in range(2, int(num**0.5)+1):\n",
    "            if num % i == 0:\n",
    "                is_prime = False\n",
    "                break\n",
    "        if is_prime:\n",
    "            print(num, end=' ')"
   ]
  },
  {
   "cell_type": "code",
   "execution_count": 3,
   "id": "4f20eb80-a1c4-4cd5-b4a7-b99bf2591c0b",
   "metadata": {},
   "outputs": [],
   "source": [
    "#13. Develop a program that counts the number of vowels in a string using a `for` loop."
   ]
  },
  {
   "cell_type": "code",
   "execution_count": 54,
   "id": "7b47a0da-363e-44f4-a1c5-e5ac56e2a2c2",
   "metadata": {},
   "outputs": [
    {
     "name": "stdout",
     "output_type": "stream",
     "text": [
      "Number of vowels in string is 4\n"
     ]
    }
   ],
   "source": [
    "str3 = \"ineurone\"\n",
    "vowels = ['a','e','i','o','u','A','E','I','O',\"U\"]\n",
    "vowels_in_str = []\n",
    "\n",
    "for char in str3:\n",
    "    if char in vowels:\n",
    "        vowels_in_str.append(char)\n",
    "    else:\n",
    "        continue\n",
    "\n",
    "print(f\"Number of vowels in string is {len(set(vowels_in_str))}\")"
   ]
  },
  {
   "cell_type": "code",
   "execution_count": 4,
   "id": "da2f205e-50a2-42db-9790-3ff580e70311",
   "metadata": {},
   "outputs": [],
   "source": [
    "#14. Write a program to find the maximum element in a 2D list using a nested `for` loop"
   ]
  },
  {
   "cell_type": "code",
   "execution_count": 1,
   "id": "aecb73dc-e46e-4ca5-a49f-ba0f4484fbb7",
   "metadata": {},
   "outputs": [
    {
     "name": "stdout",
     "output_type": "stream",
     "text": [
      "The maximum element in 2D list is = 64\n"
     ]
    }
   ],
   "source": [
    "matrix = [[10, 2, 12, 11],\n",
    "          [11, 12, 21, 50],\n",
    "          [2, 3, 45, 64],\n",
    "          [34, 44, 23, 32]]\n",
    "\n",
    "maximum = matrix[0][0]\n",
    "\n",
    "for row in matrix:\n",
    "    for element in row:\n",
    "        if element > maximum:\n",
    "            maximum = element\n",
    "            \n",
    "print(f\"The maximum element in 2D list is = {maximum}\")"
   ]
  },
  {
   "cell_type": "code",
   "execution_count": 5,
   "id": "52b62f6a-f54c-4e63-97f2-93a8cf2cdb94",
   "metadata": {},
   "outputs": [],
   "source": [
    "#15. Create a program that removes all occurrences of a specific element from a list using a `for` loop"
   ]
  },
  {
   "cell_type": "code",
   "execution_count": 6,
   "id": "d8bd8984-aa66-4da7-98ad-b487488b62ec",
   "metadata": {},
   "outputs": [
    {
     "name": "stdin",
     "output_type": "stream",
     "text": [
      "Enter specific element to remove 1\n"
     ]
    },
    {
     "name": "stdout",
     "output_type": "stream",
     "text": [
      "List after removing specific element : 1 is : [2, 3, 4, 5, 6, 7, 10]\n"
     ]
    }
   ],
   "source": [
    "\n",
    "lst5 = [1, 1, 2, 3, 4, 1, 5, 6, 7, 10]\n",
    "specific_ele = int(input(\"Enter specific element to remove\"))\n",
    "lst6 = []\n",
    "for element in lst5:\n",
    "    if element != specific_ele:\n",
    "        lst6.append(element)\n",
    "print(f\"List after removing specific element : {specific_ele} is : {lst6}\")\n",
    "        "
   ]
  },
  {
   "cell_type": "code",
   "execution_count": 6,
   "id": "1f20fb77-10f6-441f-89c6-2ccb3ff8f7fd",
   "metadata": {},
   "outputs": [],
   "source": [
    "#16. Develop a program that generates a multiplication table for numbers from 1 to 5 using a nested `for` loop"
   ]
  },
  {
   "cell_type": "code",
   "execution_count": 17,
   "id": "ff0eec7d-d65c-4802-88fc-ad3628935e15",
   "metadata": {},
   "outputs": [
    {
     "name": "stdout",
     "output_type": "stream",
     "text": [
      "1\n",
      "2\n",
      "3\n",
      "4\n",
      "5\n",
      "6\n",
      "7\n",
      "8\n",
      "9\n",
      "10\n",
      "\n",
      "2\n",
      "4\n",
      "6\n",
      "8\n",
      "10\n",
      "12\n",
      "14\n",
      "16\n",
      "18\n",
      "20\n",
      "\n",
      "3\n",
      "6\n",
      "9\n",
      "12\n",
      "15\n",
      "18\n",
      "21\n",
      "24\n",
      "27\n",
      "30\n",
      "\n",
      "4\n",
      "8\n",
      "12\n",
      "16\n",
      "20\n",
      "24\n",
      "28\n",
      "32\n",
      "36\n",
      "40\n",
      "\n",
      "5\n",
      "10\n",
      "15\n",
      "20\n",
      "25\n",
      "30\n",
      "35\n",
      "40\n",
      "45\n",
      "50\n",
      "\n"
     ]
    }
   ],
   "source": [
    "\n",
    "for i in range(1,6):\n",
    "    for j in range(1,11):\n",
    "        print(i*j)\n",
    "    print()"
   ]
  },
  {
   "cell_type": "code",
   "execution_count": 7,
   "id": "45a8935f-db50-4598-80c8-4896476b0a6c",
   "metadata": {},
   "outputs": [],
   "source": [
    "#17. Write a program that converts a list of Fahrenheit temperatures to Celsius using a `for` loop"
   ]
  },
  {
   "cell_type": "code",
   "execution_count": 21,
   "id": "0533b8d2-d77f-44a4-9c68-1ecc0d6f2623",
   "metadata": {},
   "outputs": [
    {
     "name": "stdout",
     "output_type": "stream",
     "text": [
      "[26.666666666666668, 23.88888888888889, 32.22222222222222, 35.0, 43.333333333333336, 50.55555555555556, 51.66666666666667, 31.111111111111114]\n"
     ]
    }
   ],
   "source": [
    "farn_T = [80, 75, 90, 95, 110, 123, 125, 88]\n",
    "celc_T  =[]\n",
    "\n",
    "for temp in farn_T:\n",
    "    temp_C = (5/9) * (temp - 32)\n",
    "    celc_T.append(temp_C)\n",
    "print(celc_T)"
   ]
  },
  {
   "cell_type": "code",
   "execution_count": 8,
   "id": "02836d8e-8049-4521-9ef3-db3bebed52e0",
   "metadata": {},
   "outputs": [],
   "source": [
    "#18. Create a program to print the common elements from two lists using a `for` loop"
   ]
  },
  {
   "cell_type": "code",
   "execution_count": 1,
   "id": "961eb8ea-b96d-41c3-a561-1fb15aa72fa8",
   "metadata": {},
   "outputs": [
    {
     "name": "stdout",
     "output_type": "stream",
     "text": [
      "Common elements are [12, 14, 17, 18]\n"
     ]
    }
   ],
   "source": [
    "lst7 = [12, 13, 14, 15, 16, 17, 18]\n",
    "lst8 = [12, 21, 14, 51, 61, 17, 18]\n",
    "common_lst = []\n",
    "\n",
    "for element in lst7:\n",
    "    if element in lst8:\n",
    "        common_lst.append(element)\n",
    "print(f\"Common elements are {common_lst}\")"
   ]
  },
  {
   "cell_type": "code",
   "execution_count": 9,
   "id": "18c3ac60-1ece-492c-9a5d-f2c0c71a37f6",
   "metadata": {},
   "outputs": [],
   "source": [
    "#19. Develop a program that prints the pattern of right-angled triangles using a `for` loop. Use ‘*’ to draw the pattern"
   ]
  },
  {
   "cell_type": "code",
   "execution_count": 1,
   "id": "8bb3e49e-0de9-41bc-832e-9f88c9b5285e",
   "metadata": {},
   "outputs": [
    {
     "name": "stdout",
     "output_type": "stream",
     "text": [
      "* \n",
      "* * \n",
      "* * * \n",
      "* * * * \n",
      "* * * * * \n"
     ]
    }
   ],
   "source": [
    "for i in range(5):\n",
    "    for j in range(i+1):\n",
    "        print(\"*\",end = ' ')\n",
    "    print()"
   ]
  },
  {
   "cell_type": "code",
   "execution_count": 10,
   "id": "9bbae311-5713-489c-8c9e-8fe6a99a47e9",
   "metadata": {},
   "outputs": [],
   "source": [
    "#20. Write a program to find the greatest common divisor (GCD) of two numbers using a `for` loop"
   ]
  },
  {
   "cell_type": "code",
   "execution_count": 4,
   "id": "3ce15663-8711-477a-a26f-fc0cf3692fe9",
   "metadata": {},
   "outputs": [
    {
     "name": "stdin",
     "output_type": "stream",
     "text": [
      "Enter number 1 25\n",
      "Enter number 2 10\n"
     ]
    },
    {
     "name": "stdout",
     "output_type": "stream",
     "text": [
      "Greatest common divisor is 5\n"
     ]
    }
   ],
   "source": [
    "num1 = int(input(\"Enter number 1\"))\n",
    "num2 = int(input(\"Enter number 2\"))\n",
    "\n",
    "min_num =min(num1,num2)\n",
    "gcd = 1\n",
    "\n",
    "for i in range(1,min_num+1):\n",
    "    if num1%i == 0 and num2%i == 0:\n",
    "        gcd = i\n",
    "\n",
    "print(f\"Greatest common divisor is {gcd}\")\n",
    "        "
   ]
  },
  {
   "cell_type": "code",
   "execution_count": null,
   "id": "ad8fa7b4-af55-43ae-8fbf-b06bb9ab7871",
   "metadata": {},
   "outputs": [],
   "source": [
    "# Advanced level"
   ]
  },
  {
   "cell_type": "code",
   "execution_count": 11,
   "id": "6bb579ec-d7e8-4805-a3bd-83f60f1a3b62",
   "metadata": {},
   "outputs": [],
   "source": [
    "#21. Create a program that calculates the sum of the digits of numbers in a list using a list comprehension"
   ]
  },
  {
   "cell_type": "code",
   "execution_count": 14,
   "id": "b9fc6224-d63c-4ae5-b1b3-492a59f7c540",
   "metadata": {},
   "outputs": [
    {
     "name": "stdin",
     "output_type": "stream",
     "text": [
      "Enter list of digit separated by spaces 12 13 14\n"
     ]
    },
    {
     "name": "stdout",
     "output_type": "stream",
     "text": [
      "[3, 4, 5]\n"
     ]
    }
   ],
   "source": [
    "numbers = [int(x) for x in input(\"Enter list of digit separated by spaces\").split()]\n",
    "\n",
    "sum_of_digits = [sum(int(digit) for digit in str(num)) for num in numbers]\n",
    "\n",
    "print(sum_of_digits)"
   ]
  },
  {
   "cell_type": "code",
   "execution_count": 12,
   "id": "ce99f163-c35d-44f2-aa92-28cd01c1796e",
   "metadata": {},
   "outputs": [],
   "source": [
    "#22. Write a program to find the prime factors of a given number using a `for` loop and list comprehension"
   ]
  },
  {
   "cell_type": "code",
   "execution_count": 17,
   "id": "6543a315-c66b-4c11-8444-34e0379a97e0",
   "metadata": {},
   "outputs": [
    {
     "name": "stdin",
     "output_type": "stream",
     "text": [
      "Enter a number:  24\n"
     ]
    },
    {
     "name": "stdout",
     "output_type": "stream",
     "text": [
      "[2, 3, 4]\n"
     ]
    }
   ],
   "source": [
    "num = int(input(\"Enter a number: \"))\n",
    "\n",
    "prime_factors = []\n",
    "\n",
    "for factor in range(2,num+1):\n",
    "    if num % factor == 0:\n",
    "        prime_factors.append(factor)\n",
    "        num = num // factor\n",
    "    if num == 1:\n",
    "        break\n",
    "        \n",
    "print(prime_factors)"
   ]
  },
  {
   "cell_type": "code",
   "execution_count": 13,
   "id": "1f6bcaf7-a219-4684-931f-d69a58101567",
   "metadata": {},
   "outputs": [],
   "source": [
    "#23. Develop a program that extracts unique elements from a list and stores them in a new list using a list comprehension."
   ]
  },
  {
   "cell_type": "code",
   "execution_count": 21,
   "id": "f4f03f1e-cc38-48fe-a0ee-c54638b7378f",
   "metadata": {},
   "outputs": [
    {
     "name": "stdin",
     "output_type": "stream",
     "text": [
      "Enter element of list separated by spaces 10 20 30 40 40 50 60 60 70 80 80\n"
     ]
    },
    {
     "name": "stdout",
     "output_type": "stream",
     "text": [
      "['10', '20', '30', '40', '50', '60', '70', '80']\n"
     ]
    }
   ],
   "source": [
    "input_lst = input(\"Enter element of list separated by spaces\").split()\n",
    "\n",
    "unique_elements = [x for i,x in enumerate(input_lst) if x not in input_lst[:i]]\n",
    "print(unique_elements)"
   ]
  },
  {
   "cell_type": "code",
   "execution_count": 14,
   "id": "0cc95c05-e65e-41e1-aef6-3dc4e4a13485",
   "metadata": {},
   "outputs": [],
   "source": [
    "#24. Create a program that generates a list of all palindromic numbers up to a specified limit using a list comprehension."
   ]
  },
  {
   "cell_type": "code",
   "execution_count": 3,
   "id": "a6479bcd-0d2f-4843-9f87-04efb7f87b6a",
   "metadata": {},
   "outputs": [
    {
     "name": "stdout",
     "output_type": "stream",
     "text": [
      "[0, 1, 2, 3, 4, 5, 6, 7, 8, 9, 11, 22, 33, 44, 55, 66, 77, 88, 99, 101, 111, 121, 131, 141, 151, 161, 171, 181, 191]\n"
     ]
    }
   ],
   "source": [
    "def is_palindrome(number):\n",
    "    return str(number) == str(number)[::-1]\n",
    "\n",
    "def generate_palindromic_number(limit):\n",
    "    return [num for num in range(limit+1) if is_palindrome(num)]\n",
    "\n",
    "limit = 200\n",
    "palindromic_number_list = generate_palindromic_number(limit)\n",
    "print(palindromic_number_list)"
   ]
  },
  {
   "cell_type": "code",
   "execution_count": 15,
   "id": "6f458d0d-d76e-4872-a52e-4dfeef2a4389",
   "metadata": {},
   "outputs": [],
   "source": [
    "#25. Write a program to flatten a nested list using list comprehension."
   ]
  },
  {
   "cell_type": "code",
   "execution_count": 4,
   "id": "be4dcc13-1c24-43ef-8552-498c2e8e7df4",
   "metadata": {},
   "outputs": [
    {
     "name": "stdout",
     "output_type": "stream",
     "text": [
      "[1, 2, 3, 4, 5, 6, 7, 8, 9]\n"
     ]
    }
   ],
   "source": [
    "def flatten_nestedlist(nested_list):\n",
    "    \n",
    "    return [item for sublist in nested_list for item in sublist]\n",
    "\n",
    "nested_list = [[1,2,3],[4,5,6],[7,8,9]]\n",
    "flattened_list = flatten_nestedlist(nested_list)\n",
    "print(flattened_list)"
   ]
  },
  {
   "cell_type": "code",
   "execution_count": 16,
   "id": "f1c5337c-f71a-44b3-ba15-29a96148f00a",
   "metadata": {},
   "outputs": [],
   "source": [
    "#26. Develop a program that computes the sum of even and odd numbers in a list separately using list comprehension."
   ]
  },
  {
   "cell_type": "code",
   "execution_count": 9,
   "id": "e38c79df-4032-4503-9dd3-6f7f5bc28506",
   "metadata": {},
   "outputs": [
    {
     "data": {
      "text/plain": [
       "'Odd sum = 64, even sum = 72'"
      ]
     },
     "execution_count": 9,
     "metadata": {},
     "output_type": "execute_result"
    }
   ],
   "source": [
    "def even_odd_sum(given_list):\n",
    "    \n",
    "    even_sum = sum([item for item in given_list if item%2 == 0])\n",
    "    odd_sum = sum([item for item in given_list if item%2 != 0])\n",
    "    \n",
    "    return f\"Odd sum = {odd_sum}, even sum = {even_sum}\"\n",
    "\n",
    "lst = [1, 2, 4, 3, 5, 6, 7, 8, 9, 10, 11, 12, 13, 14, 15, 16]\n",
    "even_odd_sum(lst)"
   ]
  },
  {
   "cell_type": "code",
   "execution_count": 17,
   "id": "7cc5b0d9-fe73-4fb9-b7c7-4b22144777c1",
   "metadata": {},
   "outputs": [],
   "source": [
    "#27. Create a program that generates a list of squares of odd numbers between 1 and 10 using list comprehension"
   ]
  },
  {
   "cell_type": "code",
   "execution_count": 10,
   "id": "24955a5c-c957-461c-a812-e5f06fa7e57d",
   "metadata": {},
   "outputs": [
    {
     "name": "stdout",
     "output_type": "stream",
     "text": [
      "[1, 9, 25, 49, 81]\n"
     ]
    }
   ],
   "source": [
    "sqr_odd_lst = [item**2 for item in range(1, 11) if item%2 != 0]\n",
    "\n",
    "print(sqr_odd_lst)"
   ]
  },
  {
   "cell_type": "code",
   "execution_count": 18,
   "id": "d056e14b-e9be-4293-8ca3-45bb0be0aa29",
   "metadata": {},
   "outputs": [],
   "source": [
    "#28. Write a program that combines two lists into a dictionary using list comprehension"
   ]
  },
  {
   "cell_type": "code",
   "execution_count": 11,
   "id": "7eda6776-6ddf-4eb3-bec7-6604585f9475",
   "metadata": {},
   "outputs": [
    {
     "name": "stdout",
     "output_type": "stream",
     "text": [
      "{'a': 1, 'b': 2, 'c': 3}\n"
     ]
    }
   ],
   "source": [
    "def list_to_dictionary(keys,values):\n",
    "    \n",
    "    return {key:value for key,value in zip(keys,values)}\n",
    "\n",
    "keys = ['a', 'b', 'c']\n",
    "values = [1, 2, 3]\n",
    "\n",
    "result_dict = list_to_dictionary(keys, values)\n",
    "print(result_dict)"
   ]
  },
  {
   "cell_type": "code",
   "execution_count": 19,
   "id": "f3cbda42-1f19-4351-864a-8dae96bb17e5",
   "metadata": {},
   "outputs": [],
   "source": [
    "#29. Develop a program that extracts the vowels from a string and stores them in a list using list comprehension\n"
   ]
  },
  {
   "cell_type": "code",
   "execution_count": 18,
   "id": "8454aaa8-1828-4ccb-aef8-296042c8dca5",
   "metadata": {},
   "outputs": [
    {
     "name": "stdout",
     "output_type": "stream",
     "text": [
      "['i', 'A']\n"
     ]
    }
   ],
   "source": [
    "string = \"pwskillsA\"\n",
    "vowels_SS = ['a','e','i','o','u','A','E','I','O','U']\n",
    "vowels = [char for char in string if char in vowels_SS]\n",
    "print(vowels)"
   ]
  },
  {
   "cell_type": "code",
   "execution_count": 20,
   "id": "8b698c22-80c8-4588-bb0b-57a9c4d0649c",
   "metadata": {},
   "outputs": [],
   "source": [
    "#30. Create a program that removes all non-numeric characters from a list of strings using list comprehension"
   ]
  },
  {
   "cell_type": "code",
   "execution_count": 20,
   "id": "5b59cac8-8394-4165-a399-ecccbcc59629",
   "metadata": {},
   "outputs": [
    {
     "name": "stdout",
     "output_type": "stream",
     "text": [
      "['12', '23', '34', '45', '56']\n"
     ]
    }
   ],
   "source": [
    "lst_of_str = ['12', 'pwskills', '23', '34', '45', '56', 'shubham']\n",
    "\n",
    "only_numeric = [item for item in lst_of_str if item.isdigit()]\n",
    "print(only_numeric)"
   ]
  },
  {
   "cell_type": "code",
   "execution_count": 21,
   "id": "493c6f5f-9e07-4bc8-8300-5dbc2ad188e2",
   "metadata": {},
   "outputs": [],
   "source": [
    " \n",
    "#31. Write a program to generate a list of prime numbers using the Sieve of Eratosthenes algorithm and list comprehension."
   ]
  },
  {
   "cell_type": "code",
   "execution_count": 23,
   "id": "9f8e4556-f056-40e0-a26a-5325dac819af",
   "metadata": {},
   "outputs": [
    {
     "name": "stdout",
     "output_type": "stream",
     "text": [
      "[2, 3, 5, 7, 11, 13, 17, 19, 23, 29, 31, 37, 41, 43, 47, 53, 59, 61, 67, 71, 73, 79, 83, 89, 97]\n"
     ]
    }
   ],
   "source": [
    "def sieve_of_eratosthenes(limit):\n",
    "    sieve = [True] * (limit+1)\n",
    "    sieve[0] = sieve[1] = False\n",
    "    \n",
    "    for current in range(2, int(limit**0.5)+1):\n",
    "        if sieve[current]:\n",
    "            sieve[current*current: limit+1: current] = [False] * len(sieve[current*current: limit+1: current])\n",
    "    \n",
    "    primes = [num for num in range(2, limit+1) if sieve[num]]\n",
    "    return primes\n",
    "\n",
    "limit = 100\n",
    "prime_numbers = sieve_of_eratosthenes(limit)\n",
    "print(prime_numbers)"
   ]
  },
  {
   "cell_type": "code",
   "execution_count": 22,
   "id": "f1ebf0b9-eb29-4c42-87c3-d5a6ca69f552",
   "metadata": {},
   "outputs": [],
   "source": [
    "#32. Create a program that generates a list of all Pythagorean triplets up to a specified limit using list comprehension"
   ]
  },
  {
   "cell_type": "code",
   "execution_count": 24,
   "id": "4cd5778b-0705-418e-a5fb-2092e4e98833",
   "metadata": {},
   "outputs": [
    {
     "name": "stdout",
     "output_type": "stream",
     "text": [
      "[(3, 4, 5), (5, 12, 13), (6, 8, 10), (9, 12, 15)]\n"
     ]
    }
   ],
   "source": [
    "def generate_pythagorean_triplets(limit):\n",
    "    \n",
    "    triplets = [(a, b, c) for a in range(1,limit+1) for b in range(a, limit+1) for c in range(b, limit+1) if a**2+b**2 == c**2]\n",
    "    \n",
    "    return triplets\n",
    "\n",
    "limit = 15\n",
    "\n",
    "pytha_triplets = generate_pythagorean_triplets(limit)\n",
    "print(pytha_triplets)"
   ]
  },
  {
   "cell_type": "code",
   "execution_count": 23,
   "id": "be073b8c-840f-4e1c-834e-42cd7da953bc",
   "metadata": {},
   "outputs": [],
   "source": [
    "#33. Develop a program that generates a list of all possible combinations of two lists using list comprehension"
   ]
  },
  {
   "cell_type": "code",
   "execution_count": 25,
   "id": "0aa99367-81af-4b78-8719-8cd976d67f80",
   "metadata": {},
   "outputs": [
    {
     "name": "stdout",
     "output_type": "stream",
     "text": [
      "[('a', 1), ('a', 2), ('a', 4), ('b', 1), ('b', 2), ('b', 4), ('c', 1), ('c', 2), ('c', 4)]\n"
     ]
    }
   ],
   "source": [
    "from itertools import product\n",
    "\n",
    "def combination_lists(list1, list2):\n",
    "    \n",
    "    return [(item1,item2) for item1,item2 in product(list1,list2)]\n",
    "\n",
    "list1 = ['a', 'b', 'c']\n",
    "list2 = [1, 2, 4]\n",
    "\n",
    "combine = combination_lists(list1,list2)\n",
    "print(combine)\n"
   ]
  },
  {
   "cell_type": "code",
   "execution_count": 24,
   "id": "782efefc-bf6d-4439-9c5a-c1926459625e",
   "metadata": {},
   "outputs": [],
   "source": [
    "#34. Write a program that calculates the mean, median, and mode of a list of numbers using list comprehension."
   ]
  },
  {
   "cell_type": "code",
   "execution_count": 26,
   "id": "16d23cc4-8c14-441f-821e-d4a26cfebb48",
   "metadata": {},
   "outputs": [
    {
     "name": "stdout",
     "output_type": "stream",
     "text": [
      "mean = 4.875, mode = 1, median = 4.5\n"
     ]
    }
   ],
   "source": [
    "from statistics import mean, median, mode\n",
    "\n",
    "numbers = [1, 2, 4, 5, 8, 9, 3, 7]\n",
    "\n",
    "mean_numbers = mean(numbers)\n",
    "mode_numbers = mode(numbers)\n",
    "median_numbers = median(numbers)\n",
    "\n",
    "print(f\"mean = {mean_numbers}, mode = {mode_numbers}, median = {median_numbers}\")"
   ]
  },
  {
   "cell_type": "code",
   "execution_count": 25,
   "id": "5d4e55f4-6009-4e35-8368-928efd2e0915",
   "metadata": {},
   "outputs": [],
   "source": [
    "#35. Create a program that generates Pascal's triangle up to a specified number of rows using list comprehension."
   ]
  },
  {
   "cell_type": "code",
   "execution_count": 27,
   "id": "57744e39-0c13-4e9c-a78e-feaffa172080",
   "metadata": {},
   "outputs": [
    {
     "name": "stdout",
     "output_type": "stream",
     "text": [
      "[1]\n",
      "[1, 1]\n",
      "[1, 2, 1]\n",
      "[1, 3, 3, 1]\n",
      "[1, 4, 6, 4, 1]\n"
     ]
    }
   ],
   "source": [
    "def generate_pascals_triangle(num_rows):\n",
    "    \n",
    "    if num_rows <= 0:\n",
    "        return []\n",
    "    \n",
    "    triangle = [[1]]\n",
    "    \n",
    "    for _ in range(1, num_rows):\n",
    "        prev_row = triangle[-1]\n",
    "        new_row = [1] + [prev_row[i] + prev_row[i+1] for i in range(len(prev_row)-1)] + [1]\n",
    "        triangle.append(new_row)\n",
    "        \n",
    "    return triangle\n",
    "\n",
    "num_rows = 5\n",
    "\n",
    "pascals_triangle = generate_pascals_triangle(num_rows)\n",
    "\n",
    "for row in pascals_triangle:\n",
    "    print(row)"
   ]
  },
  {
   "cell_type": "code",
   "execution_count": 26,
   "id": "f9a61d71-bc3d-4e64-baea-a5b9a363e8f0",
   "metadata": {},
   "outputs": [],
   "source": [
    "# 36. Develop a program that calculates the sum of the digits of a factorial of numbers from 1 to 5 using list comprehension."
   ]
  },
  {
   "cell_type": "code",
   "execution_count": 33,
   "id": "cac1b84a-8914-4a75-83d3-8dd7d49bf413",
   "metadata": {},
   "outputs": [
    {
     "name": "stdout",
     "output_type": "stream",
     "text": [
      "Factorial of 1: 1\n",
      "Sum of digits of factorial: 1: 1\n",
      "\n",
      "Factorial of 2: 2\n",
      "Sum of digits of factorial: 2: 2\n",
      "\n",
      "Factorial of 3: 6\n",
      "Sum of digits of factorial: 3: 6\n",
      "\n",
      "Factorial of 4: 24\n",
      "Sum of digits of factorial: 4: 6\n",
      "\n",
      "Factorial of 5: 120\n",
      "Sum of digits of factorial: 5: 3\n",
      "\n"
     ]
    }
   ],
   "source": [
    "def factorial(n):\n",
    "    if n == 0 or n == 1:\n",
    "        return 1\n",
    "    else:\n",
    "        return n * factorial(n - 1)\n",
    "\n",
    "def sum_of_digits(num):\n",
    "    return sum(int(digit) for digit in str(num))\n",
    "\n",
    "# Calculate the factorial and sum of digits for numbers from 1 to 5 using list comprehension.\n",
    "results = [(n, factorial(n), sum_of_digits(factorial(n))) for n in range(1, 6)]\n",
    "\n",
    "# Print the results.\n",
    "for n, fact, digit_sum in results:\n",
    "    print(f\"Factorial of {n}:\", fact)\n",
    "    print(f\"Sum of digits of factorial: {n}:\", digit_sum)\n",
    "    print()\n"
   ]
  },
  {
   "cell_type": "code",
   "execution_count": 27,
   "id": "2d785aa2-d75d-49ae-9669-19013ea70502",
   "metadata": {},
   "outputs": [],
   "source": [
    "#37. Write a program that finds the longest word in a sentence using list comprehension."
   ]
  },
  {
   "cell_type": "code",
   "execution_count": 36,
   "id": "23974a19-9218-423d-b8dd-c4d6d2b08cfb",
   "metadata": {},
   "outputs": [
    {
     "name": "stdout",
     "output_type": "stream",
     "text": [
      "Longest word is == pwskills\n"
     ]
    }
   ],
   "source": [
    "def find_longest_word(sentence):\n",
    "    words = sentence.split()\n",
    "    longest_word = max(words, key=len)\n",
    "    return longest_word\n",
    "\n",
    "sentence = \"I like to code in pwskills lab\"\n",
    "\n",
    "longest_word = find_longest_word(sentence)\n",
    "print(f\"Longest word is == {longest_word}\")"
   ]
  },
  {
   "cell_type": "code",
   "execution_count": 28,
   "id": "7be87675-236b-4fae-b345-e3ace79d975a",
   "metadata": {},
   "outputs": [],
   "source": [
    "#38. Create a program that filters a list of strings to include only those with more than three vowels using list comprehension."
   ]
  },
  {
   "cell_type": "code",
   "execution_count": 38,
   "id": "c2a018b8-d108-4906-9eb3-bf71959f6c5f",
   "metadata": {},
   "outputs": [
    {
     "name": "stdout",
     "output_type": "stream",
     "text": [
      "['shubhamei', 'ineuoron']\n"
     ]
    }
   ],
   "source": [
    "\n",
    "def count_vowels(word):\n",
    "    \n",
    "    return sum(1 for char in word.lower() if char in 'aeiou')\n",
    "\n",
    "def filtered_list_of_str_with_more_than_3_vowels(list_string):\n",
    "    \n",
    "    return [word for word in list_string if count_vowels(word) > 3]\n",
    "\n",
    "list_string = ['shubhamei', 'nikhil', 'ineuoron', 'pwskills']\n",
    "\n",
    "filtered_list = filtered_list_of_str_with_more_than_3_vowels(list_string)\n",
    "print(filtered_list)\n",
    "\n"
   ]
  },
  {
   "cell_type": "code",
   "execution_count": 29,
   "id": "97077256-3360-46c1-a6bd-561575d59163",
   "metadata": {},
   "outputs": [],
   "source": [
    "# 39. Develop a program that calculates the sum of the digits of numbers from 1 to 1000 using list comprehension"
   ]
  },
  {
   "cell_type": "code",
   "execution_count": 43,
   "id": "fa342f86-50cb-4959-a71f-c2d1871848f6",
   "metadata": {},
   "outputs": [
    {
     "name": "stdout",
     "output_type": "stream",
     "text": [
      "[1, 2, 3, 4, 5, 6, 7, 8, 9, 1, 2, 3, 4, 5, 6, 7, 8, 9, 10, 2, 3, 4, 5, 6, 7, 8, 9, 10, 11, 3, 4, 5, 6, 7, 8, 9, 10, 11, 12, 4, 5, 6, 7, 8, 9, 10, 11, 12, 13, 5, 6, 7, 8, 9, 10, 11, 12, 13, 14, 6, 7, 8, 9, 10, 11, 12, 13, 14, 15, 7, 8, 9, 10, 11, 12, 13, 14, 15, 16, 8, 9, 10, 11, 12, 13, 14, 15, 16, 17, 9, 10, 11, 12, 13, 14, 15, 16, 17, 18, 1, 2, 3, 4, 5, 6, 7, 8, 9, 10, 2, 3, 4, 5, 6, 7, 8, 9, 10, 11, 3, 4, 5, 6, 7, 8, 9, 10, 11, 12, 4, 5, 6, 7, 8, 9, 10, 11, 12, 13, 5, 6, 7, 8, 9, 10, 11, 12, 13, 14, 6, 7, 8, 9, 10, 11, 12, 13, 14, 15, 7, 8, 9, 10, 11, 12, 13, 14, 15, 16, 8, 9, 10, 11, 12, 13, 14, 15, 16, 17, 9, 10, 11, 12, 13, 14, 15, 16, 17, 18, 10, 11, 12, 13, 14, 15, 16, 17, 18, 19, 2, 3, 4, 5, 6, 7, 8, 9, 10, 11, 3, 4, 5, 6, 7, 8, 9, 10, 11, 12, 4, 5, 6, 7, 8, 9, 10, 11, 12, 13, 5, 6, 7, 8, 9, 10, 11, 12, 13, 14, 6, 7, 8, 9, 10, 11, 12, 13, 14, 15, 7, 8, 9, 10, 11, 12, 13, 14, 15, 16, 8, 9, 10, 11, 12, 13, 14, 15, 16, 17, 9, 10, 11, 12, 13, 14, 15, 16, 17, 18, 10, 11, 12, 13, 14, 15, 16, 17, 18, 19, 11, 12, 13, 14, 15, 16, 17, 18, 19, 20, 3, 4, 5, 6, 7, 8, 9, 10, 11, 12, 4, 5, 6, 7, 8, 9, 10, 11, 12, 13, 5, 6, 7, 8, 9, 10, 11, 12, 13, 14, 6, 7, 8, 9, 10, 11, 12, 13, 14, 15, 7, 8, 9, 10, 11, 12, 13, 14, 15, 16, 8, 9, 10, 11, 12, 13, 14, 15, 16, 17, 9, 10, 11, 12, 13, 14, 15, 16, 17, 18, 10, 11, 12, 13, 14, 15, 16, 17, 18, 19, 11, 12, 13, 14, 15, 16, 17, 18, 19, 20, 12, 13, 14, 15, 16, 17, 18, 19, 20, 21, 4, 5, 6, 7, 8, 9, 10, 11, 12, 13, 5, 6, 7, 8, 9, 10, 11, 12, 13, 14, 6, 7, 8, 9, 10, 11, 12, 13, 14, 15, 7, 8, 9, 10, 11, 12, 13, 14, 15, 16, 8, 9, 10, 11, 12, 13, 14, 15, 16, 17, 9, 10, 11, 12, 13, 14, 15, 16, 17, 18, 10, 11, 12, 13, 14, 15, 16, 17, 18, 19, 11, 12, 13, 14, 15, 16, 17, 18, 19, 20, 12, 13, 14, 15, 16, 17, 18, 19, 20, 21, 13, 14, 15, 16, 17, 18, 19, 20, 21, 22, 5, 6, 7, 8, 9, 10, 11, 12, 13, 14, 6, 7, 8, 9, 10, 11, 12, 13, 14, 15, 7, 8, 9, 10, 11, 12, 13, 14, 15, 16, 8, 9, 10, 11, 12, 13, 14, 15, 16, 17, 9, 10, 11, 12, 13, 14, 15, 16, 17, 18, 10, 11, 12, 13, 14, 15, 16, 17, 18, 19, 11, 12, 13, 14, 15, 16, 17, 18, 19, 20, 12, 13, 14, 15, 16, 17, 18, 19, 20, 21, 13, 14, 15, 16, 17, 18, 19, 20, 21, 22, 14, 15, 16, 17, 18, 19, 20, 21, 22, 23, 6, 7, 8, 9, 10, 11, 12, 13, 14, 15, 7, 8, 9, 10, 11, 12, 13, 14, 15, 16, 8, 9, 10, 11, 12, 13, 14, 15, 16, 17, 9, 10, 11, 12, 13, 14, 15, 16, 17, 18, 10, 11, 12, 13, 14, 15, 16, 17, 18, 19, 11, 12, 13, 14, 15, 16, 17, 18, 19, 20, 12, 13, 14, 15, 16, 17, 18, 19, 20, 21, 13, 14, 15, 16, 17, 18, 19, 20, 21, 22, 14, 15, 16, 17, 18, 19, 20, 21, 22, 23, 15, 16, 17, 18, 19, 20, 21, 22, 23, 24, 7, 8, 9, 10, 11, 12, 13, 14, 15, 16, 8, 9, 10, 11, 12, 13, 14, 15, 16, 17, 9, 10, 11, 12, 13, 14, 15, 16, 17, 18, 10, 11, 12, 13, 14, 15, 16, 17, 18, 19, 11, 12, 13, 14, 15, 16, 17, 18, 19, 20, 12, 13, 14, 15, 16, 17, 18, 19, 20, 21, 13, 14, 15, 16, 17, 18, 19, 20, 21, 22, 14, 15, 16, 17, 18, 19, 20, 21, 22, 23, 15, 16, 17, 18, 19, 20, 21, 22, 23, 24, 16, 17, 18, 19, 20, 21, 22, 23, 24, 25, 8, 9, 10, 11, 12, 13, 14, 15, 16, 17, 9, 10, 11, 12, 13, 14, 15, 16, 17, 18, 10, 11, 12, 13, 14, 15, 16, 17, 18, 19, 11, 12, 13, 14, 15, 16, 17, 18, 19, 20, 12, 13, 14, 15, 16, 17, 18, 19, 20, 21, 13, 14, 15, 16, 17, 18, 19, 20, 21, 22, 14, 15, 16, 17, 18, 19, 20, 21, 22, 23, 15, 16, 17, 18, 19, 20, 21, 22, 23, 24, 16, 17, 18, 19, 20, 21, 22, 23, 24, 25, 17, 18, 19, 20, 21, 22, 23, 24, 25, 26, 9, 10, 11, 12, 13, 14, 15, 16, 17, 18, 10, 11, 12, 13, 14, 15, 16, 17, 18, 19, 11, 12, 13, 14, 15, 16, 17, 18, 19, 20, 12, 13, 14, 15, 16, 17, 18, 19, 20, 21, 13, 14, 15, 16, 17, 18, 19, 20, 21, 22, 14, 15, 16, 17, 18, 19, 20, 21, 22, 23, 15, 16, 17, 18, 19, 20, 21, 22, 23, 24, 16, 17, 18, 19, 20, 21, 22, 23, 24, 25, 17, 18, 19, 20, 21, 22, 23, 24, 25, 26, 18, 19, 20, 21, 22, 23, 24, 25, 26, 27, 1]\n"
     ]
    }
   ],
   "source": [
    "def sum_of_digits(number):\n",
    "    return sum(int(digit) for digit in str(number))\n",
    "\n",
    "digit_sum = [sum_of_digits(num) for num in range(1, 1001)]\n",
    "\n"
   ]
  },
  {
   "cell_type": "code",
   "execution_count": 30,
   "id": "151cedd9-303c-4a45-bf69-c9d800a48b47",
   "metadata": {},
   "outputs": [],
   "source": [
    "#40. Write a program that generates a list of prime palindromic numbers using list comprehension"
   ]
  },
  {
   "cell_type": "code",
   "execution_count": 46,
   "id": "dc896128-ebb0-4339-bf90-740b25040594",
   "metadata": {},
   "outputs": [
    {
     "name": "stdout",
     "output_type": "stream",
     "text": [
      "[2, 3, 4, 5, 7, 8, 9, 11, 22, 33, 44, 88, 99, 101, 111, 131, 141, 151, 171, 181, 191, 202, 212, 232, 262, 272, 292, 303, 313, 333, 353, 373, 383, 393, 404, 424, 454, 464, 626, 656, 717, 727, 747, 757, 787, 797, 808, 818, 838, 848, 878, 898, 909, 919, 929, 939, 999]\n"
     ]
    }
   ],
   "source": [
    "\n",
    "def is_prime(number):\n",
    "    if number <= 1:\n",
    "        return False\n",
    "    if number <= 3:\n",
    "        return True\n",
    "    if number % 2 ==0 and number % 3 == 0:\n",
    "        return False\n",
    "    i = 5\n",
    "    while i*i <= number:\n",
    "        if number % i == 0 or number % (i+2) == 0:\n",
    "            return False\n",
    "        i += 6\n",
    "    return True\n",
    "\n",
    "def is_palindrome(number):\n",
    "    if str(number) == str(number)[::-1]:\n",
    "        return True\n",
    "    else:\n",
    "        return False\n",
    "    \n",
    "def generate_prime_palindromic_num(limit):\n",
    "    return [num for num in range(2,limit+1) if is_prime(num) and is_palindrome(num)]\n",
    "        \n",
    "limit = 1000\n",
    "prime_palindromic_numbers = generate_prime_palindromic_num(limit)\n",
    "print(prime_palindromic_numbers)"
   ]
  },
  {
   "cell_type": "code",
   "execution_count": null,
   "id": "c9344b4a-737b-4d10-8d13-2dad2d2aaad8",
   "metadata": {},
   "outputs": [],
   "source": []
  }
 ],
 "metadata": {
  "kernelspec": {
   "display_name": "Python 3 (ipykernel)",
   "language": "python",
   "name": "python3"
  },
  "language_info": {
   "codemirror_mode": {
    "name": "ipython",
    "version": 3
   },
   "file_extension": ".py",
   "mimetype": "text/x-python",
   "name": "python",
   "nbconvert_exporter": "python",
   "pygments_lexer": "ipython3",
   "version": "3.10.8"
  }
 },
 "nbformat": 4,
 "nbformat_minor": 5
}
