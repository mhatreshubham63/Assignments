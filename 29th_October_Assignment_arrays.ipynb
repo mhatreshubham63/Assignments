{
 "cells": [
  {
   "cell_type": "code",
   "execution_count": 1,
   "id": "60eb12e4-1616-401c-9f61-7ce0ca4d7124",
   "metadata": {},
   "outputs": [],
   "source": [
    "# Question 1 : Givan an array, check if it contains any duplicates or not.\n",
    "# arr = [1, 2, 4, 2, 5, 9]\n",
    "# output = True"
   ]
  },
  {
   "cell_type": "code",
   "execution_count": 2,
   "id": "409b3643-d654-43b9-9bbf-b16053a6850d",
   "metadata": {},
   "outputs": [
    {
     "data": {
      "text/plain": [
       "'True'"
      ]
     },
     "execution_count": 2,
     "metadata": {},
     "output_type": "execute_result"
    }
   ],
   "source": [
    "# Function logic\n",
    "\n",
    "def Duplicates(arr):\n",
    "    has_duplicates = False\n",
    "    for i in range(len(arr)):\n",
    "        for j in range(i+1,len(arr)):\n",
    "            if arr[i] == arr[j]:\n",
    "                has_duplicates = True\n",
    "                break\n",
    "    if has_duplicates:\n",
    "        return \"True\"\n",
    "    else:\n",
    "        return \"False\"\n",
    "\n",
    "# Driver Code\n",
    "arr = [1, 2, 4, 2, 5, 9]\n",
    "Duplicates(arr)"
   ]
  },
  {
   "cell_type": "code",
   "execution_count": 3,
   "id": "2020f795-1a2a-4ccd-8b54-86f0d97dccc2",
   "metadata": {},
   "outputs": [],
   "source": [
    "# Question 2: Given an array and an integer k, rotate the array to the right by k steps\n",
    "# arr = [1, 2, 3, 4, 5, 6, 7]     k = 3\n",
    "# output = [5, 6, 7, 1, 2, 3, 4]"
   ]
  },
  {
   "cell_type": "code",
   "execution_count": 8,
   "id": "c879ff5c-7d77-4407-9e95-96eaf17a56b9",
   "metadata": {},
   "outputs": [
    {
     "name": "stdout",
     "output_type": "stream",
     "text": [
      "[5, 6, 7, 1, 2, 3, 4]\n"
     ]
    }
   ],
   "source": [
    "# Function logic\n",
    "def RotateArray(arr, k):\n",
    "    # Effective rotation index\n",
    "    k = k % len(arr)\n",
    "    output = arr[-k:] + arr[:-k]\n",
    "    return output\n",
    "\n",
    "# DriverCode\n",
    "arr = [1, 2, 3, 4, 5, 6, 7]\n",
    "k = 3\n",
    "output = RotateArray(arr, k)\n",
    "print(output)"
   ]
  },
  {
   "cell_type": "code",
   "execution_count": 9,
   "id": "e85b5d51-a981-4fcf-a18e-d39af57c9a11",
   "metadata": {},
   "outputs": [],
   "source": [
    "# Question 3: Reverse the given array in-place, means without using any data structure\n",
    "# arr = [2, 4, 5, 7, 9, 12]\n",
    "# output = [12, 9, 7, 5, 4, 2]"
   ]
  },
  {
   "cell_type": "code",
   "execution_count": 11,
   "id": "088c899a-7040-4876-af5d-8119bd10547e",
   "metadata": {},
   "outputs": [
    {
     "name": "stdout",
     "output_type": "stream",
     "text": [
      "[12, 9, 7, 5, 4, 2]\n"
     ]
    }
   ],
   "source": [
    "# Function logic\n",
    "def ReversedArr(arr):\n",
    "     return arr[::-1]\n",
    "\n",
    "\n",
    "# Driver code\n",
    "arr = [2, 4, 5, 7, 9, 12]\n",
    "output = ReversedArr(arr)\n",
    "print(output)"
   ]
  },
  {
   "cell_type": "code",
   "execution_count": 12,
   "id": "69c021b8-dcb4-40d4-9403-5d4172d1db00",
   "metadata": {},
   "outputs": [],
   "source": [
    "# Question 4 : Given an array of integers, find the maximum element in an array\n",
    "# arr = [10, 5, 20, 8, 15]\n",
    "# Ouput = 20"
   ]
  },
  {
   "cell_type": "code",
   "execution_count": 13,
   "id": "a39ae8f8-b423-4079-9502-332ee157800d",
   "metadata": {},
   "outputs": [
    {
     "data": {
      "text/plain": [
       "20"
      ]
     },
     "execution_count": 13,
     "metadata": {},
     "output_type": "execute_result"
    }
   ],
   "source": [
    "# Function Logic\n",
    "\n",
    "def FindMax(arr):\n",
    "    max_so_far = 0\n",
    "    for i in arr:\n",
    "        if i > max_so_far:\n",
    "            max_so_far = i\n",
    "        else:\n",
    "            continue\n",
    "    return max_so_far\n",
    "\n",
    "# Driver Code\n",
    "\n",
    "arr = [10, 5, 20, 8, 15]\n",
    "FindMax(arr)"
   ]
  },
  {
   "cell_type": "code",
   "execution_count": 14,
   "id": "9f6eabb8-88b2-42b5-bec9-2f432d65a407",
   "metadata": {},
   "outputs": [],
   "source": [
    "# Question 5: Given a sorted array, remove the duplicate element without using any extra data structure\n",
    "# arr = [1, 1, 2, 2, 2, 3, 3, 4, 4, 4, 5, 5]\n",
    "# Output = [1, 2, 3, 4, 5]"
   ]
  },
  {
   "cell_type": "code",
   "execution_count": 17,
   "id": "57d34bf5-d21b-4e48-97d3-7f61da485905",
   "metadata": {},
   "outputs": [
    {
     "data": {
      "text/plain": [
       "[1, 2, 3, 4, 5]"
      ]
     },
     "execution_count": 17,
     "metadata": {},
     "output_type": "execute_result"
    }
   ],
   "source": [
    "def UniqueFilter(arr):\n",
    "    unique_index = 1\n",
    "    for i in range(1, len(arr)):\n",
    "        if arr[i] != arr[i-1]:\n",
    "            arr[unique_index] = arr[i]\n",
    "            unique_index += 1\n",
    "    output_arr = arr[:unique_index]\n",
    "    return output_arr\n",
    "\n",
    "# driver \n",
    "arr = [1, 1, 2, 2, 2, 3, 3, 4, 4, 4, 5, 5]\n",
    "UniqueFilter(arr)"
   ]
  }
 ],
 "metadata": {
  "kernelspec": {
   "display_name": "Python 3 (ipykernel)",
   "language": "python",
   "name": "python3"
  },
  "language_info": {
   "codemirror_mode": {
    "name": "ipython",
    "version": 3
   },
   "file_extension": ".py",
   "mimetype": "text/x-python",
   "name": "python",
   "nbconvert_exporter": "python",
   "pygments_lexer": "ipython3",
   "version": "3.10.8"
  }
 },
 "nbformat": 4,
 "nbformat_minor": 5
}
