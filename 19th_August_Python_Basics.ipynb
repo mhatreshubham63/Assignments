{
 "cells": [
  {
   "cell_type": "markdown",
   "id": "598a2d6f-3c19-4c68-bc1d-be5b2c979f3f",
   "metadata": {},
   "source": [
    "# Assignment_1 - Python Basics"
   ]
  },
  {
   "cell_type": "markdown",
   "id": "707b5631-7beb-43e3-b63f-de1c9645124d",
   "metadata": {},
   "source": [
    "### TOPIC : Python basic variable"
   ]
  },
  {
   "cell_type": "raw",
   "id": "eafabbf0-cbf8-4629-8316-6631b53bace6",
   "metadata": {},
   "source": [
    "1. Declare two variables, `x` and `y`, and assign them integer values.\n",
    "Swap the values of these variables without using any temporary\n",
    "variable."
   ]
  },
  {
   "cell_type": "code",
   "execution_count": 17,
   "id": "f24c266e-b5f8-4ebe-b17e-6b876a15e985",
   "metadata": {},
   "outputs": [
    {
     "name": "stdout",
     "output_type": "stream",
     "text": [
      "After swapping\n",
      "x = 24, y = 42\n"
     ]
    }
   ],
   "source": [
    "x = 42\n",
    "y = 24\n",
    "\n",
    "# Multivariable assignment\n",
    "x, y = y, x\n",
    "\n",
    "print(\"After swapping\")\n",
    "print(f\"x = {x}, y = {y}\")"
   ]
  },
  {
   "cell_type": "raw",
   "id": "027692b3-2f9a-47b0-ad3e-5a368be6e20a",
   "metadata": {},
   "source": [
    "2. Create a program that calculates the area of a rectangle. Take the length and width as inputs from the user and store them in variables.Calculate and display the area. "
   ]
  },
  {
   "cell_type": "code",
   "execution_count": 3,
   "id": "d2163951-86fb-468c-8611-2436be55c44f",
   "metadata": {},
   "outputs": [
    {
     "name": "stdin",
     "output_type": "stream",
     "text": [
      "Enter the length of rectangle:  10\n",
      "Enter the width of rectangle:  2\n"
     ]
    },
    {
     "name": "stdout",
     "output_type": "stream",
     "text": [
      "Area of rectangle is 20.0\n"
     ]
    }
   ],
   "source": [
    "length = float(input(\"Enter the length of rectangle: \"))\n",
    "width = float(input(\"Enter the width of rectangle: \"))\n",
    "\n",
    "area = length * width\n",
    "\n",
    "print(f\"Area of rectangle is {area}\")"
   ]
  },
  {
   "cell_type": "raw",
   "id": "97f64538-d732-4d01-9660-2e0e650d6183",
   "metadata": {},
   "source": [
    "3. Write a Python program that converts temperature from Celsius to\n",
    "Fahrenheit. Take the temperature in Celsius as input, store it in a\n",
    "variable, convert it to Fahrenheit, and display the result."
   ]
  },
  {
   "cell_type": "code",
   "execution_count": 6,
   "id": "66186b00-5d53-4dad-b0e7-0cc9a892948c",
   "metadata": {},
   "outputs": [
    {
     "name": "stdin",
     "output_type": "stream",
     "text": [
      "Enter the temperature in degree celcius:  24\n"
     ]
    },
    {
     "name": "stdout",
     "output_type": "stream",
     "text": [
      "Temperature value in faranheit is : 75.2\n"
     ]
    }
   ],
   "source": [
    "T_0C = float(input(\"Enter the temperature in degree celcius: \"))\n",
    "\n",
    "T_0F = (9/5) * T_0C + 32\n",
    "\n",
    "print(f\"Temperature value in faranheit is : {T_0F}\")"
   ]
  },
  {
   "cell_type": "markdown",
   "id": "81a14061-8609-4694-878b-c9bc13c22962",
   "metadata": {},
   "source": [
    "### TOPIC: String Based Questions"
   ]
  },
  {
   "cell_type": "raw",
   "id": "2edd6f5c-8e9d-45bb-97f7-7126aeca6a33",
   "metadata": {},
   "source": [
    "1. Write a Python program that takes a string as input and prints the\n",
    "length of the string."
   ]
  },
  {
   "cell_type": "code",
   "execution_count": 7,
   "id": "222ae2c7-8381-4de0-a66c-4ccc11b1c093",
   "metadata": {},
   "outputs": [
    {
     "name": "stdin",
     "output_type": "stream",
     "text": [
      "Enter a string:  shubham\n"
     ]
    },
    {
     "name": "stdout",
     "output_type": "stream",
     "text": [
      "Length of entered string is: 7\n"
     ]
    }
   ],
   "source": [
    "string = input(\"Enter a string: \")\n",
    "print(f'Length of entered string is: {len(string)}')"
   ]
  },
  {
   "cell_type": "raw",
   "id": "3ca05e95-2403-4ae7-9956-ad70d60cf8a2",
   "metadata": {},
   "source": [
    "2. Create a program that takes a sentence from the user and counts the\n",
    "number of vowels (a, e, i, o, u) in the string."
   ]
  },
  {
   "cell_type": "code",
   "execution_count": 10,
   "id": "1fe6288c-ef01-4fad-a02a-92de73abccaa",
   "metadata": {},
   "outputs": [
    {
     "name": "stdin",
     "output_type": "stream",
     "text": [
      "Enter sentence or string My name is Shubham Mhatre, I code in python\n"
     ]
    },
    {
     "name": "stdout",
     "output_type": "stream",
     "text": [
      "Count of vowels is sentence or string is: 12\n"
     ]
    }
   ],
   "source": [
    "\n",
    "sen = input(\"Enter sentence or string\")\n",
    "\n",
    "count = 0\n",
    "\n",
    "for letter in sen:\n",
    "    if letter == \"a\" or letter == \"e\" or letter == \"i\" or letter == \"o\" or letter == \"u\" or letter == \"A\" or letter == \"E\" or letter == \"I\" or letter == \"O\" or letter == \"U\":\n",
    "        count = count + 1\n",
    "\n",
    "print(f\"Count of vowels is sentence or string is: {count}\")"
   ]
  },
  {
   "cell_type": "raw",
   "id": "e3be0eeb-2959-4b24-b6e8-586bddad9dda",
   "metadata": {},
   "source": [
    "3. Given a string, reverse the order of characters using string slicing and\n",
    "print the reversed string."
   ]
  },
  {
   "cell_type": "code",
   "execution_count": 11,
   "id": "be75fad4-7c61-4d83-b77a-09b9e9d2933b",
   "metadata": {},
   "outputs": [
    {
     "name": "stdin",
     "output_type": "stream",
     "text": [
      "Enter the string:  shubham\n"
     ]
    },
    {
     "name": "stdout",
     "output_type": "stream",
     "text": [
      "Reversed string is: mahbuhs\n"
     ]
    }
   ],
   "source": [
    "\n",
    "str1 = input(\"Enter the string: \")\n",
    "\n",
    "revstr1 = str1[::-1]\n",
    "\n",
    "print(f\"Reversed string is: {revstr1}\")"
   ]
  },
  {
   "cell_type": "raw",
   "id": "dafea10c-a77c-4edf-ba25-f9f277255f74",
   "metadata": {},
   "source": [
    "4. Write a program that takes a string as input and checks if it is a\n",
    "palindrome (reads the same forwards and backwards)."
   ]
  },
  {
   "cell_type": "code",
   "execution_count": 13,
   "id": "16ebd972-ab34-4f35-8b2d-0dbe2832a487",
   "metadata": {},
   "outputs": [
    {
     "name": "stdin",
     "output_type": "stream",
     "text": [
      "Enter a string for palindrome check:  madam\n"
     ]
    },
    {
     "name": "stdout",
     "output_type": "stream",
     "text": [
      "Entered string 'madam' is palindrome\n"
     ]
    }
   ],
   "source": [
    "\n",
    "str2 = input(\"Enter a string for palindrome check: \")\n",
    "\n",
    "if str2 == str2[::-1]:\n",
    "    print(f\"Entered string '{str2}' is palindrome\")\n",
    "else:\n",
    "    print(f\"Entered string '{str2}' is NOT a palindrome\")"
   ]
  },
  {
   "cell_type": "raw",
   "id": "5824b640-33b9-4837-8374-676dcfeb52c1",
   "metadata": {},
   "source": [
    "5. Create a program that takes a string as input and removes all the\n",
    "spaces from it. Print the modified string without spaces."
   ]
  },
  {
   "cell_type": "code",
   "execution_count": 14,
   "id": "5457410a-fa69-43bd-b51a-918d2822b877",
   "metadata": {},
   "outputs": [
    {
     "name": "stdin",
     "output_type": "stream",
     "text": [
      "Enter string with spaces in between Shu bham\n"
     ]
    },
    {
     "name": "stdout",
     "output_type": "stream",
     "text": [
      "String without spaces is: Shubham\n"
     ]
    }
   ],
   "source": [
    "\n",
    "str3 = input(\"Enter string with spaces in between\")\n",
    "\n",
    "str4 = str3.replace(\" \",\"\")\n",
    "\n",
    "print(f\"String without spaces is: {str4}\")"
   ]
  },
  {
   "cell_type": "code",
   "execution_count": null,
   "id": "b1e41895-d29e-4a5d-9768-41b3d4247321",
   "metadata": {},
   "outputs": [],
   "source": []
  }
 ],
 "metadata": {
  "kernelspec": {
   "display_name": "Python 3 (ipykernel)",
   "language": "python",
   "name": "python3"
  },
  "language_info": {
   "codemirror_mode": {
    "name": "ipython",
    "version": 3
   },
   "file_extension": ".py",
   "mimetype": "text/x-python",
   "name": "python",
   "nbconvert_exporter": "python",
   "pygments_lexer": "ipython3",
   "version": "3.10.8"
  }
 },
 "nbformat": 4,
 "nbformat_minor": 5
}
