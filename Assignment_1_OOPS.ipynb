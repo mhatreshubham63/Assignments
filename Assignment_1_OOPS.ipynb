{
 "cells": [
  {
   "cell_type": "code",
   "execution_count": 9,
   "id": "dbcf835b-ef88-42e7-878b-09bc7ca705d1",
   "metadata": {},
   "outputs": [],
   "source": [
    "# Assignment 1 OOPS"
   ]
  },
  {
   "cell_type": "code",
   "execution_count": 10,
   "id": "123ce719-1c6c-42de-903c-30240a2aeb9b",
   "metadata": {},
   "outputs": [],
   "source": [
    "# 1. Problem 1: Bank Account Create a class representing a bank account with attributes like account number, account holder name, and balance. Implement methods to deposit and withdraw money from the account."
   ]
  },
  {
   "cell_type": "code",
   "execution_count": 11,
   "id": "c5e6d14a-5ff1-4126-980f-e5f0f95ec03e",
   "metadata": {},
   "outputs": [],
   "source": [
    "class bank_account:\n",
    "    \n",
    "    def __init__(self, acc_number, acc_holder_name, balance):\n",
    "        self.acc_number = acc_number\n",
    "        self.acc_holder_name = acc_holder_name\n",
    "        self.balance = balance\n",
    "        \n",
    "    def deposit(self, deposite_amount):\n",
    "        current_amount = self.balance + deposite_amount\n",
    "        self.balance = current_amount\n",
    "        return f\"balance after deposite is : {current_amount}\"\n",
    "    \n",
    "    def withdraw(self, withdraw_amount):\n",
    "        if withdraw_amount > self.balance:\n",
    "            return \"Insufficient balance in account\"\n",
    "        else:\n",
    "            current_amount_after_withdrawl = self.balance - withdraw_amount\n",
    "            self.balance = current_amount_after_withdrawl\n",
    "            return f\"Current amount after withdrawl is {self.balance}\""
   ]
  },
  {
   "cell_type": "code",
   "execution_count": 12,
   "id": "a1b11006-ede4-4250-8587-3e1a6e00b103",
   "metadata": {},
   "outputs": [],
   "source": [
    "shubham = bank_account(12345, \"shubham\", 50000)"
   ]
  },
  {
   "cell_type": "code",
   "execution_count": 13,
   "id": "23a7e02a-e2b0-40bd-9150-1ad8ab7329a3",
   "metadata": {},
   "outputs": [
    {
     "data": {
      "text/plain": [
       "'Current amount after withdrawl is 40000'"
      ]
     },
     "execution_count": 13,
     "metadata": {},
     "output_type": "execute_result"
    }
   ],
   "source": [
    "shubham.withdraw(10000)"
   ]
  },
  {
   "cell_type": "code",
   "execution_count": 14,
   "id": "4bf53da5-6503-4e8e-a2e2-013a3fb7fa0d",
   "metadata": {},
   "outputs": [
    {
     "data": {
      "text/plain": [
       "'Current amount after withdrawl is 35000'"
      ]
     },
     "execution_count": 14,
     "metadata": {},
     "output_type": "execute_result"
    }
   ],
   "source": [
    "shubham.withdraw(5000)"
   ]
  },
  {
   "cell_type": "code",
   "execution_count": 15,
   "id": "30af1e9b-ad4d-4b02-bebf-94b24e31c30f",
   "metadata": {},
   "outputs": [
    {
     "data": {
      "text/plain": [
       "'balance after deposite is : 115000'"
      ]
     },
     "execution_count": 15,
     "metadata": {},
     "output_type": "execute_result"
    }
   ],
   "source": [
    "shubham.deposit(80000)"
   ]
  },
  {
   "cell_type": "code",
   "execution_count": 16,
   "id": "b32cadb1-466d-45c4-becf-7ab229b0c3bd",
   "metadata": {},
   "outputs": [
    {
     "data": {
      "text/plain": [
       "115000"
      ]
     },
     "execution_count": 16,
     "metadata": {},
     "output_type": "execute_result"
    }
   ],
   "source": [
    "shubham.balance"
   ]
  },
  {
   "cell_type": "code",
   "execution_count": 17,
   "id": "da5bb996-0fdf-49e2-abe4-87aee243080b",
   "metadata": {},
   "outputs": [],
   "source": [
    "# Problem 2: Employee Management Create a class representing an employee with attributes like employee ID, name, and salary. Implement methods to calculate the yearly bonus and display employee details."
   ]
  },
  {
   "cell_type": "code",
   "execution_count": 18,
   "id": "6f392e49-5007-49f5-a774-2b95ab89a13f",
   "metadata": {},
   "outputs": [],
   "source": [
    "class employee:\n",
    "    \n",
    "    def __init__(self, employee_id, name, salary):\n",
    "        self.employee_id = employee_id\n",
    "        self.name = name\n",
    "        self.salary = salary\n",
    "        \n",
    "    def employee_details(self):\n",
    "        return f\"Employee name is {self.name} and employee id is {self.employee_id}\"\n",
    "    \n",
    "    def yearly_bonus(self):\n",
    "        bonus_percent_of_salary = 10\n",
    "        bonus = self.salary * (bonus_percent_of_salary/100) * 8\n",
    "        return f\"Bonus is {bonus}\"\n",
    "    "
   ]
  },
  {
   "cell_type": "code",
   "execution_count": 19,
   "id": "510baf08-5188-4508-894d-33f2937cc988",
   "metadata": {},
   "outputs": [],
   "source": [
    "shubh = employee(1234, \"Shubham\", 50000)"
   ]
  },
  {
   "cell_type": "code",
   "execution_count": 20,
   "id": "33eb4ff3-7a68-4f44-a3ad-5174ff9ee804",
   "metadata": {},
   "outputs": [
    {
     "data": {
      "text/plain": [
       "'Employee name is Shubham and employee id is 1234'"
      ]
     },
     "execution_count": 20,
     "metadata": {},
     "output_type": "execute_result"
    }
   ],
   "source": [
    "shubh.employee_details()"
   ]
  },
  {
   "cell_type": "code",
   "execution_count": 21,
   "id": "35e8aa3a-208d-46f6-ab4b-3b889d8d77c4",
   "metadata": {},
   "outputs": [
    {
     "data": {
      "text/plain": [
       "'Bonus is 40000.0'"
      ]
     },
     "execution_count": 21,
     "metadata": {},
     "output_type": "execute_result"
    }
   ],
   "source": [
    "shubh.yearly_bonus()"
   ]
  },
  {
   "cell_type": "code",
   "execution_count": 22,
   "id": "c80417ae-df7d-41c3-925c-ca77ab683963",
   "metadata": {},
   "outputs": [],
   "source": [
    "# 3. Problem 3: Vehicle Rental Create a class representing a vehicle rental system. Implement methods to rent a vehicle, return a vehicle, and display available vehicles."
   ]
  },
  {
   "cell_type": "code",
   "execution_count": 23,
   "id": "e03a84f7-5a88-4465-90dd-41c4a68a318e",
   "metadata": {},
   "outputs": [],
   "source": [
    "class VehicleRentalSystem:\n",
    "    \n",
    "    def __init__(self):\n",
    "        self.available_vehicles = {} # Dictionary to store available vehicles\n",
    "        \n",
    "    def add_vehicle(self, vehicle_id, vehicle_type):\n",
    "        self.available_vehicles[vehicle_id] = vehicle_type\n",
    "        \n",
    "    def rent_vehicle(self, vehicle_id):\n",
    "        if vehicle_id in self.available_vehicles:\n",
    "            vehicle_type = self.available_vehicles.pop(vehicle_id)\n",
    "            return f\"Rented {vehicle_type} (ID: {vehicle_id})\"\n",
    "        else:\n",
    "            return \"Specified vehicle not available for rent\"\n",
    "        \n",
    "    def return_vehicle(self, vehicle_id, vehicle_type):\n",
    "        if vehicle_id not in self.available_vehicles:\n",
    "            return f\"Returned {vehicle_type} (ID: {vehicle_id})\"\n",
    "        else:\n",
    "            return \"Invalid Return. Vehicle is not rented or doesnt exist\"\n",
    "    \n",
    "    def display_available_vehicles(self):\n",
    "        if not self.available_vehicles:\n",
    "            return \"No vehicles available for rent\"\n",
    "        else:\n",
    "            return \"Available Vehicles:\\n\" + \"\\n\".join(f\"ID: {vehicle_id}, Type: {vehicle_type}\" for vehicle_id, vehicle_type in self.available_vehicles.items())\n",
    "            \n",
    "            "
   ]
  },
  {
   "cell_type": "code",
   "execution_count": 24,
   "id": "1bb7c23a-09a4-4357-a43c-d2ccc6bc1b18",
   "metadata": {},
   "outputs": [
    {
     "data": {
      "text/plain": [
       "'No vehicles available for rent'"
      ]
     },
     "execution_count": 24,
     "metadata": {},
     "output_type": "execute_result"
    }
   ],
   "source": [
    "shubh = VehicleRentalSystem()\n",
    "shubh.display_available_vehicles()"
   ]
  },
  {
   "cell_type": "code",
   "execution_count": 25,
   "id": "510d9b78-769b-41e6-ad63-13baa7ad9ee2",
   "metadata": {},
   "outputs": [],
   "source": [
    "shubh.add_vehicle(\"123\", \"Maruti\")"
   ]
  },
  {
   "cell_type": "code",
   "execution_count": 26,
   "id": "f6d8792d-06b0-47fb-9188-82e54c323ce6",
   "metadata": {},
   "outputs": [],
   "source": [
    "shubh.add_vehicle(\"456\", \"BMW\")"
   ]
  },
  {
   "cell_type": "code",
   "execution_count": 27,
   "id": "e03b39a4-2f2b-4ff2-91cc-e46d6db1242e",
   "metadata": {},
   "outputs": [
    {
     "data": {
      "text/plain": [
       "'Rented Maruti (ID: 123)'"
      ]
     },
     "execution_count": 27,
     "metadata": {},
     "output_type": "execute_result"
    }
   ],
   "source": [
    "shubh.rent_vehicle(\"123\")"
   ]
  },
  {
   "cell_type": "code",
   "execution_count": 28,
   "id": "c9ba56ff-2941-4e0f-856f-a5cc4cb30294",
   "metadata": {},
   "outputs": [
    {
     "data": {
      "text/plain": [
       "'Available Vehicles:\\nID: 456, Type: BMW'"
      ]
     },
     "execution_count": 28,
     "metadata": {},
     "output_type": "execute_result"
    }
   ],
   "source": [
    "shubh.display_available_vehicles()"
   ]
  },
  {
   "cell_type": "code",
   "execution_count": 29,
   "id": "116a45a4-f570-426d-b94a-d7e6a6df6f17",
   "metadata": {},
   "outputs": [
    {
     "data": {
      "text/plain": [
       "'Returned Maruti (ID: 123)'"
      ]
     },
     "execution_count": 29,
     "metadata": {},
     "output_type": "execute_result"
    }
   ],
   "source": [
    "shubh.return_vehicle(\"123\", \"Maruti\")"
   ]
  },
  {
   "cell_type": "code",
   "execution_count": 30,
   "id": "71a19a8b-24f7-4d20-898d-858b824e0795",
   "metadata": {},
   "outputs": [],
   "source": [
    "# Problem 4: Library Catalog Create classes representing a library and a book. Implement methods to add books to the library, borrow books, and display available books."
   ]
  },
  {
   "cell_type": "code",
   "execution_count": 31,
   "id": "0ecf69c6-5121-487c-88d2-71076cb58be9",
   "metadata": {},
   "outputs": [],
   "source": [
    "class Library_Management:\n",
    "    \n",
    "    def __init__(self):\n",
    "        self.available_books = {}\n",
    "        \n",
    "    def add_book(self, book_id, book_name):\n",
    "        self.available_books[book_id] = book_name\n",
    "    \n",
    "    def borrow_book(self, book_id):\n",
    "        if book_id in self.available_books:\n",
    "            book_name = self.available_books.pop(book_id)\n",
    "            return f\"borrowed book having id = {book_id} and book name = {book_name}\"\n",
    "        else:\n",
    "            return \"book not available for borrowing\"\n",
    "        \n",
    "    def return_book(self, book_id):\n",
    "        if book_id not in self.available_books:\n",
    "            return f\"Returned book ID: {book_id} name: {book_name}\"\n",
    "        else:\n",
    "            return \"Inavlid Return or book is not borrowed or doesn't exist\"\n",
    "        \n",
    "    def display_available_books(self):\n",
    "        if not self.available_books:\n",
    "            return \"No book is available\"\n",
    "        else:\n",
    "            return [f\"Book name {book_name}\" for book_id, book_name in self.available_books.items()]\n",
    "        \n",
    "        \n",
    "    "
   ]
  },
  {
   "cell_type": "code",
   "execution_count": 32,
   "id": "5c0ff12d-bdd9-4649-ae5f-ac3595febe65",
   "metadata": {},
   "outputs": [],
   "source": [
    "ram = Library_Management()"
   ]
  },
  {
   "cell_type": "code",
   "execution_count": 33,
   "id": "4788988b-04f6-44a8-ae6c-cbcfb366cb9c",
   "metadata": {},
   "outputs": [
    {
     "data": {
      "text/plain": [
       "'No book is available'"
      ]
     },
     "execution_count": 33,
     "metadata": {},
     "output_type": "execute_result"
    }
   ],
   "source": [
    "ram.display_available_books()"
   ]
  },
  {
   "cell_type": "code",
   "execution_count": 34,
   "id": "508088ae-a39c-4249-bc4a-47a350161df7",
   "metadata": {},
   "outputs": [],
   "source": [
    "ram.add_book(1, \"dsa\")"
   ]
  },
  {
   "cell_type": "code",
   "execution_count": 35,
   "id": "5afe5a81-f8d1-49c1-93c7-0e531533b511",
   "metadata": {},
   "outputs": [],
   "source": [
    "ram.add_book(2, 'webdev')"
   ]
  },
  {
   "cell_type": "code",
   "execution_count": 36,
   "id": "7c92301f-6955-40b6-9359-85974723d86a",
   "metadata": {},
   "outputs": [],
   "source": [
    "ram.add_book(3, 'dspro')"
   ]
  },
  {
   "cell_type": "code",
   "execution_count": 37,
   "id": "cdebc2d3-dfa6-4750-a9b5-334105026a3b",
   "metadata": {},
   "outputs": [
    {
     "data": {
      "text/plain": [
       "['Book name dsa', 'Book name webdev', 'Book name dspro']"
      ]
     },
     "execution_count": 37,
     "metadata": {},
     "output_type": "execute_result"
    }
   ],
   "source": [
    "ram.display_available_books()"
   ]
  },
  {
   "cell_type": "code",
   "execution_count": 38,
   "id": "5720781f-cdc8-4094-9fbd-d5528829dd08",
   "metadata": {},
   "outputs": [
    {
     "data": {
      "text/plain": [
       "'borrowed book having id = 3 and book name = dspro'"
      ]
     },
     "execution_count": 38,
     "metadata": {},
     "output_type": "execute_result"
    }
   ],
   "source": [
    "ram.borrow_book(3)"
   ]
  },
  {
   "cell_type": "code",
   "execution_count": 39,
   "id": "857d663b-99b3-4f5f-aecb-f829e1c0efd9",
   "metadata": {},
   "outputs": [
    {
     "data": {
      "text/plain": [
       "['Book name dsa', 'Book name webdev']"
      ]
     },
     "execution_count": 39,
     "metadata": {},
     "output_type": "execute_result"
    }
   ],
   "source": [
    "ram.display_available_books()"
   ]
  },
  {
   "cell_type": "code",
   "execution_count": 40,
   "id": "91d14deb-0d2d-43b9-ac3a-59fc44d02fa1",
   "metadata": {},
   "outputs": [],
   "source": [
    "# Problem 5: Product Inventory Create classes representing a product and an inventory system. Implement methods to add products to the inventory, update product quantity, and display available products."
   ]
  },
  {
   "cell_type": "code",
   "execution_count": 41,
   "id": "98a9295d-f091-42d5-8339-3eb58832b3ea",
   "metadata": {},
   "outputs": [],
   "source": [
    "class Product_Inventory:\n",
    "    \n",
    "    def __init__(self):\n",
    "        self.available_product = []\n",
    "        \n",
    "    def add_product(self, product):\n",
    "        self.available_product.append(product)\n",
    "        \n",
    "    def product_quantity(self, product):\n",
    "        return f\" Count of product = {product} is {self.available_product.count(product)}\"\n",
    "    \n",
    "    def display_available_product(self):\n",
    "        list_product = self.available_product\n",
    "        return [i for i in list_product]\n",
    "        \n",
    "    \n",
    "    "
   ]
  },
  {
   "cell_type": "code",
   "execution_count": 42,
   "id": "9b068932-66d3-4e2f-9e43-995de8cdfb32",
   "metadata": {},
   "outputs": [],
   "source": [
    "product_list = Product_Inventory()"
   ]
  },
  {
   "cell_type": "code",
   "execution_count": 43,
   "id": "48972372-07ce-4446-8b9d-9a8d7e54bcf6",
   "metadata": {},
   "outputs": [],
   "source": [
    "product_list.add_product(\"book\")"
   ]
  },
  {
   "cell_type": "code",
   "execution_count": 44,
   "id": "bfeccac6-24cf-4926-8765-559c65c3aeb3",
   "metadata": {},
   "outputs": [],
   "source": [
    "product_list.add_product(\"Pen\")"
   ]
  },
  {
   "cell_type": "code",
   "execution_count": 45,
   "id": "93f3d40f-f314-4ce3-a672-ddf2a76b32e2",
   "metadata": {},
   "outputs": [],
   "source": [
    "product_list.add_product(\"Eraser\")"
   ]
  },
  {
   "cell_type": "code",
   "execution_count": 46,
   "id": "c824fbc6-84d3-4354-b579-8351e7e0073d",
   "metadata": {},
   "outputs": [],
   "source": [
    "product_list.add_product(\"book\")"
   ]
  },
  {
   "cell_type": "code",
   "execution_count": 47,
   "id": "fea5529c-3f93-44d8-817c-d301eb26a768",
   "metadata": {},
   "outputs": [
    {
     "data": {
      "text/plain": [
       "['book', 'Pen', 'Eraser', 'book']"
      ]
     },
     "execution_count": 47,
     "metadata": {},
     "output_type": "execute_result"
    }
   ],
   "source": [
    "product_list.display_available_product()"
   ]
  },
  {
   "cell_type": "code",
   "execution_count": 48,
   "id": "50b04f88-ae7c-468c-916e-e62f709792a5",
   "metadata": {},
   "outputs": [
    {
     "data": {
      "text/plain": [
       "' Count of product = book is 2'"
      ]
     },
     "execution_count": 48,
     "metadata": {},
     "output_type": "execute_result"
    }
   ],
   "source": [
    "product_list.product_quantity(\"book\")"
   ]
  },
  {
   "cell_type": "code",
   "execution_count": 49,
   "id": "a4529b28-87b0-438d-a258-e09c1529186b",
   "metadata": {},
   "outputs": [],
   "source": [
    "# Problem 6: Shape Calculation Create a class representing a shape with attributes like length, width, and height. Implement methods to calculate the area and perimeter of the shape."
   ]
  },
  {
   "cell_type": "code",
   "execution_count": 50,
   "id": "ac5e9dd3-056a-46dd-a5dc-188e2974ef7f",
   "metadata": {},
   "outputs": [],
   "source": [
    "class Shape:\n",
    "    \n",
    "    def __init__(self, l, b, h):\n",
    "        self.length = l\n",
    "        self.breadth = b\n",
    "        self.height = h\n",
    "        \n",
    "    def shape_vol_3d(self):\n",
    "        return f\"Shape volume = {self.length * self.breadth * self.height} m3\"\n",
    "    \n",
    "    def shape_area_3d(self):\n",
    "        return f\"Shape area = {2 * (self.length*self.breadth + self.breadth*self.height + self.length*self.height)} m2\"\n",
    "    \n",
    "    def shape_perimeter_2d(self):\n",
    "        return f\"Perimeter = {2 * (self.length + self.breadth)} m\""
   ]
  },
  {
   "cell_type": "code",
   "execution_count": 51,
   "id": "275b8d98-6293-4fe4-a307-689bb46e476f",
   "metadata": {},
   "outputs": [],
   "source": [
    "body1 = Shape(3, 4, 7)"
   ]
  },
  {
   "cell_type": "code",
   "execution_count": 52,
   "id": "1589a85b-1151-463d-ae59-63b997edd3c4",
   "metadata": {},
   "outputs": [
    {
     "data": {
      "text/plain": [
       "'Shape area = 122 m2'"
      ]
     },
     "execution_count": 52,
     "metadata": {},
     "output_type": "execute_result"
    }
   ],
   "source": [
    "body1.shape_area_3d()"
   ]
  },
  {
   "cell_type": "code",
   "execution_count": 53,
   "id": "75216c1c-2e97-4e95-a99b-1a0b5a4ab44b",
   "metadata": {},
   "outputs": [
    {
     "data": {
      "text/plain": [
       "'Shape volume = 84 m3'"
      ]
     },
     "execution_count": 53,
     "metadata": {},
     "output_type": "execute_result"
    }
   ],
   "source": [
    "body1.shape_vol_3d()"
   ]
  },
  {
   "cell_type": "code",
   "execution_count": 54,
   "id": "1bf9b7d1-82a9-4e3f-a783-770e5ac8e5af",
   "metadata": {},
   "outputs": [],
   "source": [
    "# Problem 7: Student Management Create a class representing a student with attributes like student ID, name, and grades. \n",
    "# Implement methods to calculate the average grade and display student details."
   ]
  },
  {
   "cell_type": "code",
   "execution_count": 55,
   "id": "cddfaf45-f938-4003-9aff-4425c091cbc7",
   "metadata": {},
   "outputs": [
    {
     "name": "stdout",
     "output_type": "stream",
     "text": [
      "78.33333333333333\n",
      "---------------------\n",
      "Student_ID = 1234\n",
      "Student Name = Shubham\n",
      "Student grades = [80, 75, 80]\n",
      "Average grades = 78.33333333333333\n",
      "None\n"
     ]
    }
   ],
   "source": [
    "class Student :\n",
    "    \n",
    "    def __init__(self, student_id, name):\n",
    "        self.student_id = student_id\n",
    "        self.name = name\n",
    "        self.grades = []\n",
    "        \n",
    "    def add_grades(self, grade):\n",
    "        self.grades.append(grade)\n",
    "        \n",
    "    def average_grades(self):\n",
    "        if not self.grades:\n",
    "            return 0\n",
    "        else:\n",
    "            average = sum(self.grades)/len(self.grades)\n",
    "        return average\n",
    "    \n",
    "    def display_student_details(self):\n",
    "        print(f\"Student_ID = {self.student_id}\")\n",
    "        print(f\"Student Name = {self.name}\")\n",
    "        print(f\"Student grades = {self.grades}\")\n",
    "        print(f\"Average grades = {self.average_grades()}\")\n",
    "\n",
    "shubh = Student(1234, \"Shubham\")\n",
    "shubh.add_grades(80)\n",
    "shubh.add_grades(75)\n",
    "shubh.add_grades(80)\n",
    "print(shubh.average_grades())\n",
    "print(\"---------------------\")\n",
    "print(shubh.display_student_details())\n"
   ]
  },
  {
   "cell_type": "code",
   "execution_count": 56,
   "id": "ec6509e9-0994-4bcd-9506-d83d1ceae720",
   "metadata": {},
   "outputs": [],
   "source": [
    "# 8 Problem 8: Email Management Create a class representing an email with attributes like sender, recipient, and subject. Implement methods to send an email and display email details."
   ]
  },
  {
   "cell_type": "code",
   "execution_count": 57,
   "id": "fa9c9a4c-6824-45fd-8fa2-09d0bed7b911",
   "metadata": {},
   "outputs": [],
   "source": [
    "class email :\n",
    "    \n",
    "    def __init__(self, sender, recipient, subject, message):\n",
    "        self.sender = sender\n",
    "        self.recipient = recipient\n",
    "        self.subject = subject\n",
    "        self.message = message\n",
    "        self.sent = False\n",
    "    \n",
    "    def email_sent(self):\n",
    "        \n",
    "        self.sent = True\n",
    "        print(f\"Email is sent from {self.sender} to {self.recipient}\")\n",
    "        \n",
    "    def display_email_details(self):\n",
    "        print(f\"Email details\")\n",
    "        print(f\"Sender = {self.sender}\")\n",
    "        print(f\"Reciever = {self.recipient}\")\n",
    "        print(f\"Subject = {self.subject}\")\n",
    "        print(f\"Message:  \")\n",
    "        print(self.message)\n",
    "        if self.sent:\n",
    "            print(\"Mail sent\")\n",
    "        else:\n",
    "            print(f\"Draft\")"
   ]
  },
  {
   "cell_type": "code",
   "execution_count": 58,
   "id": "81c2a880-258f-40d9-a4fc-2cdffb973a78",
   "metadata": {},
   "outputs": [],
   "source": [
    "user1 = email(\"Shubham\", \"Nikhil\", \"Discussion on MoM\", \"Please attend meeting on time\" )"
   ]
  },
  {
   "cell_type": "code",
   "execution_count": 59,
   "id": "fa743083-2ae2-4897-b830-9ddbc91fbd39",
   "metadata": {},
   "outputs": [
    {
     "name": "stdout",
     "output_type": "stream",
     "text": [
      "Email is sent from Shubham to Nikhil\n"
     ]
    }
   ],
   "source": [
    "user1.email_sent()"
   ]
  },
  {
   "cell_type": "code",
   "execution_count": 60,
   "id": "e1d9f2de-f5db-45ca-a278-314a6e769122",
   "metadata": {},
   "outputs": [
    {
     "name": "stdout",
     "output_type": "stream",
     "text": [
      "Email details\n",
      "Sender = Shubham\n",
      "Reciever = Nikhil\n",
      "Subject = Discussion on MoM\n",
      "Message:  \n",
      "Please attend meeting on time\n",
      "Mail sent\n"
     ]
    }
   ],
   "source": [
    "user1.display_email_details()"
   ]
  },
  {
   "cell_type": "code",
   "execution_count": 61,
   "id": "5be41b32-4377-4500-b8f3-ad911790b0f5",
   "metadata": {},
   "outputs": [],
   "source": [
    "# 9. Problem 9: Social Media Profile Create a class representing a social media profile with attributes like username and posts. Implement methods to add posts, display posts, and search for posts by keyword."
   ]
  },
  {
   "cell_type": "code",
   "execution_count": 62,
   "id": "318df718-f597-4728-9389-c15b06ea59a3",
   "metadata": {},
   "outputs": [],
   "source": [
    "class Profiles :\n",
    "    \n",
    "    def __init__(self, username):\n",
    "        self.username = username\n",
    "        self.posts = []\n",
    "        \n",
    "    def add_post(self, post_content):\n",
    "        self.posts.append(post_content)\n",
    "        print(f\"New post added by {self.username}: {post_content}\")\n",
    "    \n",
    "    def display_posts(self):\n",
    "        if not self.posts:\n",
    "            print(f\"{self.username}'s profile has no posts. \")\n",
    "        else:\n",
    "            print(f\"{self.username}'s post\")\n",
    "            for i, post in enumerate(self.posts,start=1):\n",
    "                print(f\"Post {i} : {post}\")\n",
    "                \n",
    "    def search_posts_by_keyword(self, keyword):\n",
    "        matching_posts = [post for post in self.posts if keyword in post]\n",
    "        if not matching_posts:\n",
    "            print(f\"No posts found \")"
   ]
  },
  {
   "cell_type": "code",
   "execution_count": 63,
   "id": "a1df421e-eca6-4c0f-843c-6d46ca67d1d2",
   "metadata": {},
   "outputs": [],
   "source": [
    "# Problem 10: ToDo List Create a class representing a ToDo list with attributes like tasks and due dates. Implement methods to add tasks,\n",
    "# mark tasks as completed, and display pending tasks."
   ]
  },
  {
   "cell_type": "code",
   "execution_count": 64,
   "id": "18278ecb-cae7-4dd6-902f-fc0f24d921e4",
   "metadata": {},
   "outputs": [
    {
     "name": "stdout",
     "output_type": "stream",
     "text": [
      "PENDING TASKS ARE AS FOLLOWS\n",
      "----------------------------\n",
      "Task: Complete Report ||| Due date : 30-5-2023\n",
      "Task: Watch Movie ||| Due date : 01-06-2023\n",
      "Task: Play Cricket ||| Due date : 03-06-2023\n",
      "---------------------------\n",
      "Task Complete Report marked as completed\n",
      "------------------------------\n",
      "PENDING TASKS ARE AS FOLLOWS\n",
      "----------------------------\n",
      "Task: Watch Movie ||| Due date : 01-06-2023\n",
      "Task: Play Cricket ||| Due date : 03-06-2023\n"
     ]
    }
   ],
   "source": [
    "class ToDoList:\n",
    "    \n",
    "    def __init__(self):\n",
    "        self.tasks = {}\n",
    "        \n",
    "    def add_task(self, task, due_date):\n",
    "        self.tasks[task] = due_date\n",
    "    \n",
    "    def mark_completed_task(self, task):\n",
    "        if task in self.tasks:\n",
    "            del self.tasks[task]\n",
    "            print(f\"Task {task} marked as completed\")\n",
    "        else:\n",
    "            print(f\"Taks {tasks} is not completed\")\n",
    "    \n",
    "    def display_pending_tasks(self):\n",
    "        if not self.tasks:\n",
    "            print(\"No pending tasks\")\n",
    "        else:\n",
    "            print(\"PENDING TASKS ARE AS FOLLOWS\")\n",
    "            print(\"----------------------------\")\n",
    "            for task, due_date in self.tasks.items():\n",
    "                print(f\"Task: {task} ||| Due date : {due_date}\")\n",
    "    \n",
    "todo = ToDoList()\n",
    "todo.add_task(\"Complete Report\", \"30-5-2023\")\n",
    "todo.add_task(\"Watch Movie\", \"01-06-2023\")\n",
    "todo.add_task(\"Play Cricket\", \"03-06-2023\")\n",
    "\n",
    "todo.display_pending_tasks()\n",
    "print(\"---------------------------\")\n",
    "\n",
    "todo.mark_completed_task(\"Complete Report\")\n",
    "print(\"------------------------------\")\n",
    "todo.display_pending_tasks()"
   ]
  },
  {
   "cell_type": "code",
   "execution_count": null,
   "id": "808d7d5e-4960-4638-9a38-056eab52cd49",
   "metadata": {},
   "outputs": [],
   "source": []
  },
  {
   "cell_type": "code",
   "execution_count": null,
   "id": "b098a155-3432-47db-b684-a7c64fa4158b",
   "metadata": {},
   "outputs": [],
   "source": []
  },
  {
   "cell_type": "markdown",
   "id": "1e7e1f66-1fb9-4ad0-80e3-010b274b04a5",
   "metadata": {},
   "source": [
    "Problem 1: Bank Account Create a class representing a bank account with attributes like account number, account holder name, and balance. Implement methods to deposit and withdraw money from the account.\n",
    "\n",
    "Problem 2: Employee Management Create a class representing an employee with attributes like employee ID, name, and salary. Implement methods to calculate the yearly bonus and display employee details.\n",
    "\n",
    "Problem 3: Vehicle Rental Create a class representing a vehicle rental system. Implement methods to rent a vehicle, return a vehicle, and display available vehicles.\n",
    "\n",
    "Problem 4: Library Catalog Create classes representing a library and a book. Implement methods to add books to the library, borrow books, and display available books.\n",
    "\n",
    "Problem 5: Product Inventory Create classes representing a product and an inventory system. Implement methods to add products to the inventory, update product quantity, and display available products.\n",
    "\n",
    "Problem 6: Shape Calculation Create a class representing a shape with attributes like length, width, and height. Implement methods to calculate the area and perimeter of the shape.\n",
    "\n",
    "Problem 7: Student Management Create a class representing a student with attributes like student ID, name, and grades. Implement methods to calculate the average grade and display student details.\n",
    "\n",
    "Problem 8: Email Management Create a class representing an email with attributes like sender, recipient, and subject. Implement methods to send an email and display email details.\n",
    "\n",
    "Problem 9: Social Media Profile Create a class representing a social media profile with attributes like username and posts. Implement methods to add posts, display posts, and search for posts by keyword.\n",
    "\n",
    "Problem 10: ToDo List Create a class representing a ToDo list with attributes like tasks and due dates. Implement methods to add tasks, mark tasks as completed, and display pending tasks."
   ]
  }
 ],
 "metadata": {
  "kernelspec": {
   "display_name": "Python 3 (ipykernel)",
   "language": "python",
   "name": "python3"
  },
  "language_info": {
   "codemirror_mode": {
    "name": "ipython",
    "version": 3
   },
   "file_extension": ".py",
   "mimetype": "text/x-python",
   "name": "python",
   "nbconvert_exporter": "python",
   "pygments_lexer": "ipython3",
   "version": "3.10.8"
  }
 },
 "nbformat": 4,
 "nbformat_minor": 5
}
